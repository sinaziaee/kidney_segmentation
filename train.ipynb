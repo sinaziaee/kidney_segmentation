{
 "cells": [
  {
   "cell_type": "code",
   "execution_count": 1,
   "metadata": {},
   "outputs": [
    {
     "name": "stderr",
     "output_type": "stream",
     "text": [
      "2024-01-25 11:37:47.701358: I tensorflow/core/platform/cpu_feature_guard.cc:182] This TensorFlow binary is optimized to use available CPU instructions in performance-critical operations.\n",
      "To enable the following instructions: AVX2 FMA, in other operations, rebuild TensorFlow with the appropriate compiler flags.\n",
      "2024-01-25 11:37:48.364892: W tensorflow/compiler/tf2tensorrt/utils/py_utils.cc:38] TF-TRT Warning: Could not find TensorRT\n"
     ]
    }
   ],
   "source": [
    "# from dataset2d import Dataset2D\n",
    "from dataset_creator import MyDataset\n",
    "from model import UNet\n",
    "import torch\n",
    "from torch.utils.data import DataLoader\n",
    "from tqdm import tqdm\n",
    "import model_hyper_parameters as config\n",
    "import torch.nn as nn\n",
    "import pickle\n",
    "import os\n",
    "import matplotlib.pyplot as plt\n",
    "from torch.utils.tensorboard import SummaryWriter\n",
    "from torch.optim.lr_scheduler import ReduceLROnPlateau\n",
    "from losses import DiceLoss, GeneralizedDiceLoss\n",
    "from torchvision import transforms\n",
    "import json\n"
   ]
  },
  {
   "cell_type": "code",
   "execution_count": 2,
   "metadata": {},
   "outputs": [],
   "source": [
    "class DiceScore(nn.Module):\n",
    "    def __init__(self, weight=None, size_average=True):\n",
    "        super().__init__()\n",
    "        self.normalization = nn.Softmax(dim=1)\n",
    "\n",
    "    def forward(self, inputs, targets, smooth=1):\n",
    "        inputs = self.normalization(inputs)\n",
    "\n",
    "        targets = targets[:, 1:2, ...]\n",
    "        inputs = torch.where(inputs[:, 1:2, ...] > 0.5, 1.0, 0.0)\n",
    "\n",
    "        inputs = inputs.reshape(-1)\n",
    "        targets = targets.reshape(-1)\n",
    "\n",
    "        intersection = (inputs * targets).sum()\n",
    "        dice = (2. * intersection + smooth) / (inputs.sum() + targets.sum() + smooth)\n",
    "\n",
    "        return dice"
   ]
  },
  {
   "cell_type": "code",
   "execution_count": 3,
   "metadata": {},
   "outputs": [],
   "source": [
    "# make dataLoader\n",
    "base_path = '/scratch/student/sinaziaee/datasets/2d_dataset/'\n",
    "# base_path = 'new_3d_dataset'\n",
    "train_dir = os.path.join(base_path, 'training')\n",
    "valid_dir = os.path.join(base_path, 'validation')\n",
    "test_dir = os.path.join(base_path, 'testing')\n",
    "\n",
    "# transformer = transforms.Compose([\n",
    "#     transforms.RandomCrop(512),\n",
    "#     transforms.ToTensor(),\n",
    "# ])\n",
    "\n",
    "# train_dataset = Dataset2D(input_root=f'{train_dir}/images/', target_root=f'{train_dir}/labels/', transform= transformer)\n",
    "# valid_dataset = Dataset2D(input_root=f'{valid_dir}/images/', target_root=f'{valid_dir}/labels/', transform= transformer)\n",
    "# test_dataset = Dataset2D(input_root=f'{test_dir}/images/', target_root=f'{test_dir}/labels/', transform= transformer)\n",
    "\n",
    "train_dataset = MyDataset(kind='train')\n",
    "valid_dataset = MyDataset(kind='valid')\n",
    "test_dataset = MyDataset(kind='test')\n",
    "\n",
    "BATCH_SIZE = 32\n",
    "\n",
    "train_loader = DataLoader(train_dataset, batch_size=BATCH_SIZE, shuffle=True, pin_memory=config.PIN_MEMORY)\n",
    "valid_loader = DataLoader(valid_dataset, batch_size=BATCH_SIZE, shuffle=False, pin_memory=config.PIN_MEMORY)\n",
    "test_loader = DataLoader(test_dataset, batch_size=BATCH_SIZE, shuffle=False, pin_memory=config.PIN_MEMORY)"
   ]
  },
  {
   "cell_type": "code",
   "execution_count": 4,
   "metadata": {},
   "outputs": [
    {
     "name": "stderr",
     "output_type": "stream",
     "text": [
      "  0%|          | 0/53 [00:00<?, ?it/s]"
     ]
    }
   ],
   "source": [
    "os.makedirs('final_result', exist_ok=True)\n",
    "lr_rate = 0.0001\n",
    "model = UNet(64, 5, use_xavier=True, use_batchNorm=True, dropout=0.5, retain_size=True, nbCls=2)\n",
    "DEVICE = torch.device('cuda:1')\n",
    "model.to(DEVICE)\n",
    "\n",
    "history = {'train_loss': [], 'valid_loss': [], 'dice_valid_score': []}\n",
    "optimizer = torch.optim.NAdam(model.parameters(), lr=lr_rate)\n",
    "schedular = ReduceLROnPlateau(optimizer, 'min', patience=5, factor=0.25, verbose=True)\n",
    "\n",
    "dicelossfunc = GeneralizedDiceLoss(normalization='softmax')\n",
    "diceScore = DiceScore()\n",
    "\n",
    "num_train = int(len(train_loader) // config.BATCH_SIZE)\n",
    "outer_loop = tqdm(range(30), leave=False, position=0)\n",
    "inner_loop = tqdm(range(num_train), leave=False, position=0)"
   ]
  },
  {
   "cell_type": "code",
   "execution_count": 5,
   "metadata": {},
   "outputs": [
    {
     "name": "stderr",
     "output_type": "stream",
     "text": [
      "                                               \r"
     ]
    },
    {
     "ename": "KeyboardInterrupt",
     "evalue": "",
     "output_type": "error",
     "traceback": [
      "\u001b[0;31m---------------------------------------------------------------------------\u001b[0m",
      "\u001b[0;31mKeyboardInterrupt\u001b[0m                         Traceback (most recent call last)",
      "Cell \u001b[0;32mIn[5], line 32\u001b[0m\n\u001b[1;32m     30\u001b[0m model\u001b[38;5;241m.\u001b[39meval()\n\u001b[1;32m     31\u001b[0m \u001b[38;5;28;01mfor\u001b[39;00m (x, y) \u001b[38;5;129;01min\u001b[39;00m valid_loader:\n\u001b[0;32m---> 32\u001b[0m     (x, y) \u001b[38;5;241m=\u001b[39m (\u001b[43mx\u001b[49m\u001b[38;5;241;43m.\u001b[39;49m\u001b[43mto\u001b[49m\u001b[43m(\u001b[49m\u001b[43mDEVICE\u001b[49m\u001b[43m)\u001b[49m, y\u001b[38;5;241m.\u001b[39mto(DEVICE))\n\u001b[1;32m     34\u001b[0m     pred \u001b[38;5;241m=\u001b[39m model(x)\n\u001b[1;32m     35\u001b[0m     valid_loss \u001b[38;5;241m=\u001b[39m dicelossfunc(pred\u001b[38;5;241m.\u001b[39mclone(), y\u001b[38;5;241m.\u001b[39mclone())\n",
      "\u001b[0;31mKeyboardInterrupt\u001b[0m: "
     ]
    }
   ],
   "source": [
    "import sys\n",
    "\n",
    "min_valid_loss = sys.maxsize\n",
    "\n",
    "for i in outer_loop:\n",
    "    model.train()\n",
    "    \n",
    "    total_loss = 0\n",
    "    total_valid_loss = 0\n",
    "    total_valid_dice = 0\n",
    "    \n",
    "    train_step = 0\n",
    "    valid_step = 0\n",
    "\n",
    "    data_iter = iter(train_loader)\n",
    "    for j in inner_loop:\n",
    "        (x, y) = next(data_iter)\n",
    "        (x, y) = (x.to(DEVICE), y.to(DEVICE))\n",
    "\n",
    "        pred = model(x)\n",
    "        loss = dicelossfunc(pred, y)\n",
    "        optimizer.zero_grad()\n",
    "        loss.backward()\n",
    "        optimizer.step()\n",
    "\n",
    "        total_loss += loss\n",
    "        train_step += 1\n",
    "        # inner_pbar.set_postfix({'Train_loss': \"{:.4f}\".format(loss)})\n",
    "        with torch.no_grad():\n",
    "            model.eval()\n",
    "            for (x, y) in valid_loader:\n",
    "                (x, y) = (x.to(DEVICE), y.to(DEVICE))\n",
    "\n",
    "                pred = model(x)\n",
    "                valid_loss = dicelossfunc(pred.clone(), y.clone())\n",
    "                total_valid_loss += valid_loss\n",
    "\n",
    "                valid_score = diceScore(pred, y)\n",
    "\n",
    "                total_valid_dice += valid_score\n",
    "                valid_step += 1\n",
    "                \n",
    "    avg_loss = (total_loss / train_step).cpu().detach().numpy()\n",
    "    avg_valid_loss = (total_valid_loss / valid_step).cpu().detach().numpy()\n",
    "    avg_valid_dice = (total_valid_dice / valid_step).cpu().detach().numpy()\n",
    "\n",
    "    schedular.step(avg_valid_loss)\n",
    "\n",
    "    history['train_loss'].append(avg_loss)\n",
    "    history['valid_loss'].append(avg_valid_loss)\n",
    "    history['dice_valid_score'].append(avg_valid_dice)\n",
    "    \n",
    "    history['train_loss'] = list(history['train_loss'])\n",
    "    history['valid_loss'] = list(history['valid_loss']) \n",
    "    history['dice_valid_score'] = list(history['dice_valid_score'])\n",
    "    \n",
    "    with open(f'./final_result/history.json', 'w') as f:\n",
    "        json.dump(history, f)\n",
    "        \n",
    "    # torch.save(model.state_dict(), f'./final_result/unet_{i + 1}.pt')\n",
    "\n",
    "    \n",
    "    if min_valid_loss > avg_valid_loss:\n",
    "        min_valid_loss = avg_valid_dice\n",
    "        torch.save(model.state_dict(), './final_result/best_model.pt')\n",
    "        \n",
    "        with open(f'./final_result/history_{i + 1}.pkl', 'wb') as f:\n",
    "            pickle.dump(history, f)\n",
    "        \n",
    "        print(history)\n",
    "    # print('Saving model...\\n\\n')\n",
    "    # torch.save(model.state_dict(), './final_result/UNet.pt')\n",
    "\n",
    "print('Saving figure...\\n\\n')\n",
    "plt.style.use('ggplot')\n",
    "plt.figure(figsize=(15, 10))\n",
    "plt.plot(history['train_loss'], label='Train_Dice_Loss')\n",
    "plt.plot(history['valid_loss'], label='Validation_Dice_Loss')\n",
    "plt.title('Training Dice Score on Dataset')\n",
    "plt.xlabel('Number of Epoch')\n",
    "plt.ylabel('Dice Loss')\n",
    "plt.legend(loc='lower left')\n",
    "plt.savefig('./final_result/train_result.png')\n",
    "\n",
    "print('Saving History...\\n\\n')\n",
    "with open('./final_result/history.pkl', 'wb') as f:\n",
    "    pickle.dump(history, f)\n",
    "\n",
    "print('***************End of System***************')"
   ]
  },
  {
   "cell_type": "code",
   "execution_count": null,
   "metadata": {},
   "outputs": [],
   "source": []
  }
 ],
 "metadata": {
  "kernelspec": {
   "display_name": "test",
   "language": "python",
   "name": "python3"
  },
  "language_info": {
   "codemirror_mode": {
    "name": "ipython",
    "version": 3
   },
   "file_extension": ".py",
   "mimetype": "text/x-python",
   "name": "python",
   "nbconvert_exporter": "python",
   "pygments_lexer": "ipython3",
   "version": "3.11.5"
  }
 },
 "nbformat": 4,
 "nbformat_minor": 2
}
