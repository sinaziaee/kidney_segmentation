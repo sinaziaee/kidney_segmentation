{
 "cells": [
  {
   "cell_type": "code",
   "execution_count": 17,
   "metadata": {},
   "outputs": [],
   "source": [
    "import json\n",
    "from tqdm import tqdm\n",
    "from makedataset import makeDataset\n",
    "from eff_unet import EffUNet\n",
    "import torch\n",
    "import torch.nn as nn\n",
    "import numpy as np\n",
    "import os\n",
    "import nibabel as nib\n",
    "from scipy.ndimage import rotate\n",
    "from my_dice_score import DiceScore\n",
    "\n",
    "\n",
    "# Specify the file path\n",
    "file_path = \"data_npy/depth_lists.json\"\n",
    "\n",
    "# Read the JSON file and convert it to a dictionary\n",
    "with open(file_path, \"r\") as file:\n",
    "    depth_dict = json.load(file)\n",
    "    \n",
    "\n",
    "file_names = [int(file_name[7:11]) for file_name in os.listdir('/scratch/student/sinaziaee/datasets/3d_dataset/testing/labels')]\n",
    "test_dataset = makeDataset(kind='test', location='data_npy')\n",
    "output_folder = '3d_predictions3'\n",
    "os.makedirs(output_folder, exist_ok=True)\n",
    "dice_score = DiceScore()"
   ]
  },
  {
   "cell_type": "code",
   "execution_count": 18,
   "metadata": {},
   "outputs": [
    {
     "name": "stdout",
     "output_type": "stream",
     "text": [
      "CUDA Available!\n"
     ]
    }
   ],
   "source": [
    "model = EffUNet(1, 5, use_xavier=True, use_batchNorm=True, dropout=0.2, retain_size=True, nbCls=2)\n",
    "DEVICE = 'cuda' if torch.cuda.is_available() else 'cpu'\n",
    "folder_path = 'final_result11'\n",
    "model_name = 'unet_30.pt'\n",
    "devices = 'cpu'\n",
    "device_num = 0\n",
    "if torch.cuda.is_available():\n",
    "    devices = 'gpu'\n",
    "    device_num = torch.cuda.device_count()\n",
    "model = torch.nn.DataParallel(model)\n",
    "model.to(DEVICE)\n",
    "if torch.cuda.is_available():\n",
    "    print('CUDA Available!')\n",
    "    model.load_state_dict(torch.load(f'./{folder_path}/{model_name}'))\n",
    "else:\n",
    "    print('CUDA is unavailable, using CPU instead!')\n",
    "    print('Warning: using CPU might require several hours')\n",
    "    model.load_state_dict(torch.load(f'./{folder_path}/{model_name}', map_location=torch.device('cpu')))"
   ]
  },
  {
   "cell_type": "code",
   "execution_count": 19,
   "metadata": {},
   "outputs": [
    {
     "name": "stderr",
     "output_type": "stream",
     "text": [
      "100%|██████████| 205/205 [00:09<00:00, 22.23it/s]\n",
      " 12%|█▎        | 1/8 [00:10<01:10, 10.05s/it]"
     ]
    },
    {
     "name": "stdout",
     "output_type": "stream",
     "text": [
      "tensor(0.7253)\n"
     ]
    },
    {
     "name": "stderr",
     "output_type": "stream",
     "text": [
      "100%|██████████| 203/203 [00:09<00:00, 22.43it/s]\n",
      " 25%|██▌       | 2/8 [00:19<00:59,  9.94s/it]"
     ]
    },
    {
     "name": "stdout",
     "output_type": "stream",
     "text": [
      "tensor(0.9483)\n"
     ]
    },
    {
     "name": "stderr",
     "output_type": "stream",
     "text": [
      "100%|██████████| 310/310 [00:13<00:00, 22.90it/s]\n",
      " 38%|███▊      | 3/8 [00:34<01:00, 12.17s/it]"
     ]
    },
    {
     "name": "stdout",
     "output_type": "stream",
     "text": [
      "tensor(0.9563)\n"
     ]
    },
    {
     "name": "stderr",
     "output_type": "stream",
     "text": [
      "100%|██████████| 201/201 [00:08<00:00, 22.93it/s]\n",
      " 50%|█████     | 4/8 [00:44<00:44, 11.15s/it]"
     ]
    },
    {
     "name": "stdout",
     "output_type": "stream",
     "text": [
      "tensor(0.9654)\n"
     ]
    },
    {
     "name": "stderr",
     "output_type": "stream",
     "text": [
      "100%|██████████| 204/204 [00:08<00:00, 23.02it/s]\n",
      " 62%|██████▎   | 5/8 [00:54<00:31, 10.62s/it]"
     ]
    },
    {
     "name": "stdout",
     "output_type": "stream",
     "text": [
      "tensor(0.9808)\n"
     ]
    },
    {
     "name": "stderr",
     "output_type": "stream",
     "text": [
      "100%|██████████| 251/251 [00:11<00:00, 22.67it/s]\n",
      " 75%|███████▌  | 6/8 [01:06<00:22, 11.14s/it]"
     ]
    },
    {
     "name": "stdout",
     "output_type": "stream",
     "text": [
      "tensor(0.9487)\n"
     ]
    },
    {
     "name": "stderr",
     "output_type": "stream",
     "text": [
      "100%|██████████| 181/181 [00:07<00:00, 22.70it/s]\n",
      " 88%|████████▊ | 7/8 [01:14<00:10, 10.34s/it]"
     ]
    },
    {
     "name": "stdout",
     "output_type": "stream",
     "text": [
      "tensor(0.9154)\n"
     ]
    },
    {
     "name": "stderr",
     "output_type": "stream",
     "text": [
      "100%|██████████| 226/226 [00:09<00:00, 22.67it/s]\n",
      "100%|██████████| 8/8 [01:25<00:00, 10.72s/it]"
     ]
    },
    {
     "name": "stdout",
     "output_type": "stream",
     "text": [
      "tensor(0.9617)\n",
      "Average dice score: 0.9252153635025024\n"
     ]
    },
    {
     "name": "stderr",
     "output_type": "stream",
     "text": [
      "\n"
     ]
    }
   ],
   "source": [
    "start_inx = 0\n",
    "treshold = 0.5\n",
    "dice_list = []\n",
    "for num, depth in enumerate(tqdm(depth_dict['test'])):\n",
    "    image_dice = 0\n",
    "    slices = []\n",
    "    for inx in tqdm(range(start_inx, start_inx+depth)):\n",
    "        image, mask = test_dataset[inx]\n",
    "        image, mask = image.unsqueeze(0).to(DEVICE), mask.unsqueeze(0).to(DEVICE)\n",
    "        pred = model(image)\n",
    "        pred = pred.cpu()\n",
    "        dice = dice_score(pred.clone(), mask.cpu())\n",
    "        image_dice += dice\n",
    "        pred = torch.sigmoid(pred)\n",
    "        pred=np.where(pred[:,1,...].cpu().detach().numpy()>treshold,1,0)\n",
    "        pred = pred.squeeze(0)\n",
    "        # rotate to be the same as the original image (due to stacking this rotation is necessary)\n",
    "        pred = rotate(pred, 270)\n",
    "        slices.append(pred)\n",
    "    # image_3d = np.stack(slices, axis=-1)\n",
    "    image_3d = np.stack(slices, axis=0)\n",
    "    image_3d = image_3d.astype(np.float32)\n",
    "    nifti_path = os.path.join(output_folder, f'pred_{file_names[num]:04d}.nii.gz')\n",
    "    nifti_img = nib.Nifti1Image(image_3d, np.eye(4))\n",
    "    nib.save(nifti_img, nifti_path)\n",
    "    start_inx = start_inx + depth\n",
    "    avg_image_dice = image_dice / depth\n",
    "    dice_list.append(avg_image_dice)\n",
    "    print(avg_image_dice)\n",
    "avg_dice = sum(dice_list) / len(dice_list)\n",
    "print(f'Average dice score: {avg_dice}')"
   ]
  },
  {
   "cell_type": "code",
   "execution_count": 20,
   "metadata": {},
   "outputs": [
    {
     "name": "stdout",
     "output_type": "stream",
     "text": [
      "[tensor(0.7253), tensor(0.9483), tensor(0.9563), tensor(0.9654), tensor(0.9808), tensor(0.9487), tensor(0.9154), tensor(0.9617)]\n"
     ]
    }
   ],
   "source": [
    "print(dice_list)"
   ]
  },
  {
   "cell_type": "code",
   "execution_count": null,
   "metadata": {},
   "outputs": [],
   "source": []
  }
 ],
 "metadata": {
  "kernelspec": {
   "display_name": "test",
   "language": "python",
   "name": "python3"
  },
  "language_info": {
   "codemirror_mode": {
    "name": "ipython",
    "version": 3
   },
   "file_extension": ".py",
   "mimetype": "text/x-python",
   "name": "python",
   "nbconvert_exporter": "python",
   "pygments_lexer": "ipython3",
   "version": "3.11.5"
  }
 },
 "nbformat": 4,
 "nbformat_minor": 2
}
