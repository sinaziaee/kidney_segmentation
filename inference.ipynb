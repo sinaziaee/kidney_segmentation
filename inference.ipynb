{
 "cells": [
  {
   "cell_type": "code",
   "execution_count": 3,
   "metadata": {},
   "outputs": [],
   "source": [
    "from model import UNet\n",
    "from dataset2d import Dataset2D\n",
    "import torch\n",
    "from torch.utils.data import DataLoader\n",
    "import numpy as np\n",
    "import torch.nn as nn\n",
    "import matplotlib.pyplot as plt\n",
    "import os\n",
    "from imageio import imwrite\n",
    "from PIL import Image\n",
    "import model_hyper_parameters as config\n",
    "from tqdm.auto import tqdm"
   ]
  },
  {
   "cell_type": "code",
   "execution_count": 4,
   "metadata": {},
   "outputs": [],
   "source": [
    "class DiceScore(nn.Module):\n",
    "    def __init__(self, weight=None, size_average=True):\n",
    "        super().__init__()\n",
    "        self.normalization=nn.Softmax(dim=1)\n",
    "\n",
    "    def forward(self, inputs, targets, smooth=1e-4):\n",
    "        inputs = self.normalization(inputs)\n",
    "\n",
    "        targets = targets[:, 1:2, ...]\n",
    "        inputs = torch.where(inputs[:, 1:2, ...] > 0.5, 1.0, 0.0)\n",
    "\n",
    "        inputs = inputs.reshape(-1)\n",
    "        targets = targets.reshape(-1)\n",
    "\n",
    "        intersection = (inputs * targets).sum()\n",
    "        dice = (2. * intersection + smooth) / (inputs.sum() + targets.sum() + smooth)\n",
    "\n",
    "        return dice"
   ]
  },
  {
   "cell_type": "code",
   "execution_count": 5,
   "metadata": {},
   "outputs": [],
   "source": [
    "DEFAULT_KIDNEY_COLOR = [255, 0, 0]\n",
    "DEFAULT_PRED_COLOR = [0, 0, 255]\n",
    "ALPHA = 0.3\n",
    "dicescore=DiceScore()\n",
    "os.makedirs('pred_img',exist_ok=True)"
   ]
  },
  {
   "cell_type": "code",
   "execution_count": null,
   "metadata": {},
   "outputs": [],
   "source": [
    "unet = UNet(64,5,use_xavier=True,use_batchNorm=True,dropout=0.5,retain_size=True,nbCls=2)\n",
    "devices = 'cpu'\n",
    "device_num = 0\n",
    "if torch.cuda.is_available():\n",
    "    devices = 'gpu'\n",
    "    device_num = torch.cuda.device_count()\n",
    "unet = torch.nn.DataParallel(unet)\n",
    "unet.to(config.DEVICE)\n",
    "if torch.cuda.is_available():\n",
    "    print('CUDA Available!')\n",
    "    unet.load_state_dict(torch.load('./final_result/unet.pt'))\n",
    "else:\n",
    "    print('CUDA is unavailable, using CPU instead!')\n",
    "    print('Warning: using CPU might require several hours')\n",
    "    unet.load_state_dict(torch.load('./final_result/unet.pt', map_location=torch.device('cpu')))"
   ]
  },
  {
   "cell_type": "code",
   "execution_count": null,
   "metadata": {},
   "outputs": [],
   "source": [
    "total_dice=0\n",
    "root_dir=os.path.join('.','data_npy','valid')\n",
    "softmax=nn.Softmax(dim=1)\n",
    "for iters in tqdm(range(7922)):\n",
    "    unet.eval()\n",
    "    \n",
    "    cid_name='{:05d}.npy'.format(iters)\n",
    "    img_np=np.load(os.path.join(root_dir,'image',cid_name))\n",
    "    seg_np=np.load(os.path.join(root_dir,'segmentation',cid_name))\n",
    "    \n",
    "    pred=unet(torch.tensor(img_np.reshape((1,1,512,512)),dtype=torch.float32))\n",
    "    pred=pred.cpu()\n",
    "    dice=dicescore(pred.clone(),torch.tensor(seg_np.reshape((1,2,512,512))))\n",
    "    total_dice+=dice\n",
    "    \n",
    "    pred=softmax(pred)\n",
    "    pred=np.where(pred[:,1,...].cpu().detach().numpy()>0.5,1,0)\n",
    "    \n",
    "    img_np=img_np.reshape((1,512,512))\n",
    "    seg_np=seg_np[1,...]\n",
    "    seg_np=seg_np.reshape((1,512,512))\n",
    "    \n",
    "    img=255*img_np\n",
    "    img=np.stack((img,img,img),axis=-1)\n",
    "    \n",
    "    shp=seg_np.shape\n",
    "    seg_color=np.zeros((shp[0],shp[1],shp[2],3),dtype=np.float32)\n",
    "    seg_color[np.equal(seg_np,1)]=DEFAULT_KIDNEY_COLOR\n",
    "    seg_color[np.equal(pred,1)]=DEFAULT_PRED_COLOR\n",
    "    \n",
    "    img.astype(np.uint8)\n",
    "    seg_color.astype(np.uint8)\n",
    "    seg_np.astype(np.uint8)\n",
    "    \n",
    "    segbin1=np.greater(seg_np,0)\n",
    "    segbin2=np.greater(pred,0)\n",
    "    \n",
    "    segbin=segbin1*0.5+segbin2*0.5\n",
    "    \n",
    "    r_segbin=np.stack((segbin,segbin,segbin),axis=-1)\n",
    "    overlayed=np.where(\n",
    "        r_segbin,\n",
    "        np.round(ALPHA*seg_color+(1-ALPHA)*img).astype(np.uint8),\n",
    "        np.round(img).astype(np.uint8)\n",
    "        \n",
    "    )\n",
    "    imwrite('./pred_img/'+'{:05d}_{:.2f}%.png'.format(iters,dice*100),overlayed[0])\n",
    "print('Image Generated Finished, Average F1 Score: {:.3f}%'.format((total_dice/7922)*100))"
   ]
  }
 ],
 "metadata": {
  "kernelspec": {
   "display_name": "test",
   "language": "python",
   "name": "python3"
  },
  "language_info": {
   "codemirror_mode": {
    "name": "ipython",
    "version": 3
   },
   "file_extension": ".py",
   "mimetype": "text/x-python",
   "name": "python",
   "nbconvert_exporter": "python",
   "pygments_lexer": "ipython3",
   "version": "3.10.13"
  }
 },
 "nbformat": 4,
 "nbformat_minor": 2
}
