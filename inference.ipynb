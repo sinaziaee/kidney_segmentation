{
 "cells": [
  {
   "cell_type": "code",
   "execution_count": 40,
   "metadata": {},
   "outputs": [],
   "source": [
    "import json\n",
    "from tqdm import tqdm\n",
    "from makedataset import makeDataset\n",
    "from eff_unet import EffUNet\n",
    "import torch\n",
    "import torch.nn as nn\n",
    "import numpy as np\n",
    "import os\n",
    "import nibabel as nib\n",
    "from scipy.ndimage import rotate\n",
    "\n",
    "\n",
    "# Specify the file path\n",
    "file_path = \"data_npy/depth_lists.json\"\n",
    "\n",
    "# Read the JSON file and convert it to a dictionary\n",
    "with open(file_path, \"r\") as file:\n",
    "    depth_dict = json.load(file)\n",
    "    \n",
    "\n",
    "file_names = [int(file_name[7:11]) for file_name in os.listdir('/scratch/student/sinaziaee/datasets/3d_dataset/testing/labels')]\n",
    "test_dataset = makeDataset(kind='test', location='data_npy')\n",
    "output_folder = '3d_predictions'\n",
    "os.makedirs(output_folder, exist_ok=True)"
   ]
  },
  {
   "cell_type": "code",
   "execution_count": 31,
   "metadata": {},
   "outputs": [
    {
     "name": "stdout",
     "output_type": "stream",
     "text": [
      "CUDA Available!\n"
     ]
    }
   ],
   "source": [
    "model = EffUNet(1, 5, use_xavier=True, use_batchNorm=True, dropout=0.2, retain_size=True, nbCls=2)\n",
    "DEVICE = 'cuda' if torch.cuda.is_available() else 'cpu'\n",
    "folder_path = 'final_result11'\n",
    "model_name = 'unet_7.pt'\n",
    "devices = 'cpu'\n",
    "device_num = 0\n",
    "if torch.cuda.is_available():\n",
    "    devices = 'gpu'\n",
    "    device_num = torch.cuda.device_count()\n",
    "model = torch.nn.DataParallel(model)\n",
    "model.to(DEVICE)\n",
    "if torch.cuda.is_available():\n",
    "    print('CUDA Available!')\n",
    "    model.load_state_dict(torch.load(f'./{folder_path}/{model_name}'))\n",
    "else:\n",
    "    print('CUDA is unavailable, using CPU instead!')\n",
    "    print('Warning: using CPU might require several hours')\n",
    "    model.load_state_dict(torch.load(f'./{folder_path}/{model_name}', map_location=torch.device('cpu')))"
   ]
  },
  {
   "cell_type": "code",
   "execution_count": 32,
   "metadata": {},
   "outputs": [],
   "source": [
    "class DiceScore(nn.Module):\n",
    "    def __init__(self, weight=None, size_average=True):\n",
    "        super().__init__()\n",
    "        self.normalization=nn.Softmax(dim=1)\n",
    "\n",
    "    def forward(self, inputs, targets, smooth=1e-4):\n",
    "        inputs = self.normalization(inputs)\n",
    "\n",
    "        targets = targets[:, 1:2, ...]\n",
    "        inputs = torch.where(inputs[:, 1:2, ...] > 0.5, 1.0, 0.0)\n",
    "\n",
    "        inputs = inputs.reshape(-1)\n",
    "        targets = targets.reshape(-1)\n",
    "\n",
    "        intersection = (inputs * targets).sum()\n",
    "        dice = (2. * intersection + smooth) / (inputs.sum() + targets.sum() + smooth)\n",
    "\n",
    "        return dice\n",
    "\n",
    "dice_score = DiceScore()"
   ]
  },
  {
   "cell_type": "code",
   "execution_count": 69,
   "metadata": {},
   "outputs": [
    {
     "name": "stderr",
     "output_type": "stream",
     "text": [
      "100%|██████████| 205/205 [00:10<00:00, 20.25it/s]\n",
      "100%|██████████| 203/203 [00:10<00:00, 19.44it/s]\n",
      "100%|██████████| 310/310 [00:15<00:00, 19.97it/s]\n",
      "100%|██████████| 201/201 [00:10<00:00, 19.74it/s]\n",
      "100%|██████████| 204/204 [00:10<00:00, 20.02it/s]\n",
      "100%|██████████| 251/251 [00:12<00:00, 20.52it/s]\n",
      "100%|██████████| 181/181 [00:09<00:00, 19.80it/s]\n",
      "100%|██████████| 226/226 [00:11<00:00, 19.65it/s]\n",
      "100%|██████████| 8/8 [01:35<00:00, 11.97s/it]"
     ]
    },
    {
     "name": "stdout",
     "output_type": "stream",
     "text": [
      "Average dice score: 0.8809655904769897\n"
     ]
    },
    {
     "name": "stderr",
     "output_type": "stream",
     "text": [
      "\n"
     ]
    }
   ],
   "source": [
    "start_inx = 0\n",
    "treshold = 0.5\n",
    "dice_list = []\n",
    "for num, depth in enumerate(tqdm(depth_dict['test'])):\n",
    "    image_dice = 0\n",
    "    slices = []\n",
    "    for inx in tqdm(range(start_inx, start_inx+depth)):\n",
    "        image, mask = test_dataset[inx]\n",
    "        image, mask = image.unsqueeze(0).to(DEVICE), mask.unsqueeze(0).to(DEVICE)\n",
    "        pred = model(image)\n",
    "        pred = pred.cpu()\n",
    "        dice = dice_score(pred.clone(), mask.cpu())\n",
    "        image_dice += dice\n",
    "        pred = torch.sigmoid(pred)\n",
    "        pred=np.where(pred[:,1,...].cpu().detach().numpy()>treshold,1,0)\n",
    "        pred = pred.squeeze(0)\n",
    "        # rotate to be the same as the original image (due to stacking this rotation is necessary)\n",
    "        pred = rotate(pred, 270)\n",
    "        slices.append(pred)\n",
    "    image_3d = np.stack(slices, axis=-1)\n",
    "    image_3d = image_3d.astype(np.float32)\n",
    "    nifti_path = os.path.join(output_folder, f'pred_{file_names[num]:04d}.nii.gz')\n",
    "    nifti_img = nib.Nifti1Image(image_3d, np.eye(4))\n",
    "    nib.save(nifti_img, nifti_path)\n",
    "    start_inx = start_inx + depth\n",
    "    avg_image_dice = image_dice / depth\n",
    "    dice_list.append(avg_image_dice)\n",
    "avg_dice = sum(dice_list) / len(dice_list)\n",
    "print(f'Average dice score: {avg_dice}')"
   ]
  },
  {
   "cell_type": "code",
   "execution_count": null,
   "metadata": {},
   "outputs": [],
   "source": []
  }
 ],
 "metadata": {
  "kernelspec": {
   "display_name": "test",
   "language": "python",
   "name": "python3"
  },
  "language_info": {
   "codemirror_mode": {
    "name": "ipython",
    "version": 3
   },
   "file_extension": ".py",
   "mimetype": "text/x-python",
   "name": "python",
   "nbconvert_exporter": "python",
   "pygments_lexer": "ipython3",
   "version": "3.11.5"
  }
 },
 "nbformat": 4,
 "nbformat_minor": 2
}
