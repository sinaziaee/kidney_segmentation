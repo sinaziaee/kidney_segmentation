{
 "cells": [
  {
   "cell_type": "code",
   "execution_count": 1,
   "metadata": {},
   "outputs": [
    {
     "name": "stderr",
     "output_type": "stream",
     "text": [
      "/home/student/sinaziaee/mini_conda/miniconda3/envs/test/lib/python3.11/site-packages/tqdm/auto.py:21: TqdmWarning: IProgress not found. Please update jupyter and ipywidgets. See https://ipywidgets.readthedocs.io/en/stable/user_install.html\n",
      "  from .autonotebook import tqdm as notebook_tqdm\n"
     ]
    }
   ],
   "source": [
    "from model import UNet\n",
    "from dataset2d import Dataset2D\n",
    "from dataset_creator import MyDataset\n",
    "import torch\n",
    "from torch.utils.data import DataLoader\n",
    "import numpy as np\n",
    "import torch.nn as nn\n",
    "import matplotlib.pyplot as plt\n",
    "import os\n",
    "from imageio import imwrite\n",
    "from PIL import Image\n",
    "import model_hyper_parameters as config\n",
    "from tqdm.auto import tqdm\n",
    "from torchvision import transforms"
   ]
  },
  {
   "cell_type": "code",
   "execution_count": 2,
   "metadata": {},
   "outputs": [],
   "source": [
    "class DiceScore(nn.Module):\n",
    "    def __init__(self, weight=None, size_average=True):\n",
    "        super().__init__()\n",
    "        self.normalization=nn.Softmax(dim=1)\n",
    "\n",
    "    def forward(self, inputs, targets, smooth=1e-4):\n",
    "        inputs = self.normalization(inputs)\n",
    "\n",
    "        targets = targets[:, 1:2, ...]\n",
    "        inputs = torch.where(inputs[:, 1:2, ...] > 0.5, 1.0, 0.0)\n",
    "\n",
    "        inputs = inputs.reshape(-1)\n",
    "        targets = targets.reshape(-1)\n",
    "\n",
    "        intersection = (inputs * targets).sum()\n",
    "        dice = (2. * intersection + smooth) / (inputs.sum() + targets.sum() + smooth)\n",
    "\n",
    "        return dice\n",
    "    \n",
    "def calculate_IoU(outputs, masks):\n",
    "    predicted_masks = (outputs > 0.5).float()\n",
    "    intersection = torch.sum(predicted_masks * masks)\n",
    "    union = torch.sum(predicted_masks) + torch.sum(masks) - intersection\n",
    "    iou = (intersection + 1e-8)/ (union + 1e-8)\n",
    "    return iou"
   ]
  },
  {
   "cell_type": "code",
   "execution_count": 23,
   "metadata": {},
   "outputs": [],
   "source": [
    "DEFAULT_KIDNEY_COLOR = [255, 0, 0]\n",
    "DEFAULT_PRED_COLOR = [0, 0, 255]\n",
    "ALPHA = 0.3\n",
    "dicescore=DiceScore()\n",
    "os.makedirs('pred_img',exist_ok=True)"
   ]
  },
  {
   "cell_type": "code",
   "execution_count": 24,
   "metadata": {},
   "outputs": [
    {
     "name": "stdout",
     "output_type": "stream",
     "text": [
      "CUDA Available!\n"
     ]
    }
   ],
   "source": [
    "model = UNet(64,5,use_xavier=True,use_batchNorm=True,dropout=0.5,retain_size=True,nbCls=2)\n",
    "# devices = 'cpu'\n",
    "# device_num = 0\n",
    "# if torch.cuda.is_available():\n",
    "#     devices = 'gpu'\n",
    "#     device_num = torch.cuda.device_count()\n",
    "# unet = torch.nn.DataParallel(unet)\n",
    "DEVICE = torch.device(\"cuda:1\")\n",
    "model.to(DEVICE)\n",
    "if torch.cuda.is_available():\n",
    "    print('CUDA Available!')\n",
    "    model.load_state_dict(torch.load('./final_result/best_model.pt'))\n",
    "else:\n",
    "    print('CUDA is unavailable, using CPU instead!')\n",
    "    print('Warning: using CPU might require several hours')\n",
    "    model.load_state_dict(torch.load('./final_result/unet.pt', map_location=torch.device('cpu')))"
   ]
  },
  {
   "cell_type": "code",
   "execution_count": 25,
   "metadata": {},
   "outputs": [],
   "source": [
    "# # make dataLoader\n",
    "# base_path = '/scratch/student/sinaziaee/datasets/2d_dataset/'\n",
    "# # base_path = 'new_3d_dataset'\n",
    "# test_dir = os.path.join(base_path, 'testing')\n",
    "\n",
    "# transformer = transforms.Compose([\n",
    "#     transforms.ToTensor(),\n",
    "# ])\n",
    "\n",
    "# test_dataset = Dataset2D(input_root=f'{test_dir}/images/', target_root=f'{test_dir}/labels/', transform= transformer)\n",
    "# test_loader = DataLoader(test_dataset, batch_size=1, shuffle=False, pin_memory=config.PIN_MEMORY)\n",
    "\n",
    "\n",
    "test_dataset = MyDataset(kind='test')\n",
    "\n",
    "BATCH_SIZE = 32\n",
    "\n",
    "test_loader = DataLoader(test_dataset, batch_size=BATCH_SIZE, shuffle=False)"
   ]
  },
  {
   "cell_type": "code",
   "execution_count": 26,
   "metadata": {},
   "outputs": [],
   "source": [
    "def show_image_modified(image, mask, pred_image=None, path_dir=None, filename=None, iou=None, dice_score=None):\n",
    "    image = image.squeeze()  # Remove channel dimension if it's present\n",
    "    mask = mask.squeeze()  # Remove channel dimension if it's present\n",
    "\n",
    "    plt.figure(figsize=(10, 5))\n",
    "\n",
    "    if pred_image is not None:\n",
    "        ax1 = plt.subplot(1, 3, 1)\n",
    "        ax2 = plt.subplot(1, 3, 2)\n",
    "        ax3 = plt.subplot(1, 3, 3)\n",
    "    else:\n",
    "        ax1 = plt.subplot(1, 2, 1)\n",
    "        ax2 = plt.subplot(1, 2, 2)\n",
    "\n",
    "    ax1.set_title('IMAGE')\n",
    "    ax1.imshow(image, cmap='gray')\n",
    "    ax1.axis('off')\n",
    "\n",
    "    ax2.set_title('GROUND TRUTH')\n",
    "    ax2.imshow(mask, cmap='gray')\n",
    "    ax2.axis('off')\n",
    "\n",
    "    # Add IoU and Dice score to the predicted image subplot\n",
    "    if pred_image is not None and iou is not None and dice_score is not None:\n",
    "        pred_image = pred_image.squeeze()  # Remove channel dimension if it's present\n",
    "        ax3.imshow(pred_image, cmap='gray')\n",
    "        ax3.set_title('MODEL OUTPUT')\n",
    "        ax3.axis('off')\n",
    "        ax3.text(5, 5, f'IoU: {iou:.2f}, Dice: {dice_score:.2f}', color='white', fontsize=8, backgroundcolor='black')\n",
    "\n",
    "    if path_dir is not None and filename is not None:\n",
    "        full_path = os.path.join(path_dir, filename)\n",
    "        plt.savefig(full_path, bbox_inches='tight', pad_inches=0)\n",
    "\n",
    "    plt.close()"
   ]
  },
  {
   "cell_type": "code",
   "execution_count": 27,
   "metadata": {},
   "outputs": [
    {
     "data": {
      "text/plain": [
       "tensor([[0, 0, 0,  ..., 0, 0, 0],\n",
       "        [0, 0, 0,  ..., 0, 0, 0],\n",
       "        [0, 0, 0,  ..., 0, 0, 0],\n",
       "        ...,\n",
       "        [0, 0, 0,  ..., 0, 0, 0],\n",
       "        [0, 0, 0,  ..., 0, 0, 0],\n",
       "        [0, 0, 0,  ..., 0, 0, 0]], dtype=torch.uint8)"
      ]
     },
     "execution_count": 27,
     "metadata": {},
     "output_type": "execute_result"
    }
   ],
   "source": [
    "test_dataset[0][1][1]"
   ]
  },
  {
   "cell_type": "code",
   "execution_count": 28,
   "metadata": {},
   "outputs": [
    {
     "name": "stdout",
     "output_type": "stream",
     "text": [
      "Overall IoU: 0.02, Overall Dice Score: 1.00\n"
     ]
    }
   ],
   "source": [
    "total_iou = 0.0\n",
    "total_dice = 0.0\n",
    "num_images = 0\n",
    "\n",
    "for idx, (images, true_masks) in enumerate(test_loader):\n",
    "    images = images.to(DEVICE)\n",
    "    true_masks = true_masks.to(DEVICE)\n",
    "    # print(true_masks[:, 1:, :, :].shape)  \n",
    "    # print(images.shape)\n",
    "#     # filename = test_loader.dataset.get_filename(idx)\n",
    "\n",
    "    with torch.no_grad():\n",
    "        logits_mask = model(images)\n",
    "        pred_mask = torch.sigmoid(logits_mask)\n",
    "        pred_mask = (pred_mask > 0.5) * 1.0\n",
    "\n",
    "    pred_mask = pred_mask[:, 1:, :, :]\n",
    "    true_masks = true_masks[:, 1:, :, :]\n",
    "\n",
    "    # Calculate IoU and Dice Score for each image\n",
    "    iou = calculate_IoU(pred_mask, true_masks)\n",
    "    dice_score = dicescore(pred_mask, true_masks)\n",
    "\n",
    "    total_iou += iou.item()\n",
    "    total_dice += dice_score\n",
    "    num_images += 1\n",
    "\n",
    "    # Move tensors to CPU\n",
    "    images_cpu = images[0].detach().cpu().squeeze()\n",
    "    true_masks_cpu = true_masks[0].detach().cpu().squeeze()\n",
    "    pred_mask_cpu = pred_mask[0].detach().cpu().squeeze()\n",
    "\n",
    "    # Use the modified show_image function\n",
    "    show_image_modified(images_cpu, true_masks_cpu, pred_mask_cpu, \n",
    "            path_dir='./pred_img/', filename=str(idx), iou=iou, dice_score=dice_score)\n",
    "\n",
    "overall_iou = total_iou / num_images\n",
    "overall_dice = total_dice / num_images\n",
    "print(f\"Overall IoU: {overall_iou:.2f}, Overall Dice Score: {overall_dice:.2f}\")"
   ]
  },
  {
   "cell_type": "code",
   "execution_count": null,
   "metadata": {},
   "outputs": [],
   "source": []
  },
  {
   "cell_type": "code",
   "execution_count": 7,
   "metadata": {},
   "outputs": [
    {
     "name": "stderr",
     "output_type": "stream",
     "text": [
      "  0%|          | 0/132 [00:00<?, ?it/s]"
     ]
    }
   ],
   "source": [
    "# total_dice = 0\n",
    "# total_loss = 0\n",
    "# counter = 0\n",
    "# softmax=nn.Softmax(dim=1)\n",
    "\n",
    "# num_test = int(len(test_loader) // config.BATCH_SIZE)\n",
    "# test_loop = tqdm(range(num_test), leave=False, position=0)\n",
    "\n",
    "# data_iter = iter(test_loader)\n",
    "\n",
    "# with torch.no_grad():\n",
    "#     for i in test_loop:\n",
    "#         model.eval()\n",
    "#         counter += 1\n",
    "#         (x, y) = next(data_iter)\n",
    "#         x = x.to(DEVICE)    \n",
    "#         pred = model(x)\n",
    "#         pred=pred.cpu()\n",
    "        \n",
    "#         dice=dicescore(pred.clone(), y.clone())\n",
    "#         total_dice+=dice\n",
    "        \n",
    "#         img_np=x.cpu().numpy()\n",
    "#         seg_np=y.cpu().numpy()\n",
    "        \n",
    "#         img_np=img_np.reshape((1,512,512))\n",
    "#         seg_np=seg_np.reshape((1,512,512))\n",
    "        \n",
    "#         img=255*img_np\n",
    "#         img=np.stack((img,img,img),axis=-1)\n",
    "        \n",
    "#         shp=seg_np.shape\n",
    "#         seg_color=np.zeros((shp[0],shp[1],shp[2],3),dtype=np.float32)\n",
    "#         seg_color[np.equal(seg_np,1)]=DEFAULT_KIDNEY_COLOR\n",
    "#         seg_color[np.equal(pred,1)]=DEFAULT_PRED_COLOR\n",
    "        \n",
    "#         img.astype(np.uint8)\n",
    "#         seg_color.astype(np.uint8)\n",
    "#         seg_np.astype(np.uint8)\n",
    "        \n",
    "#         segbin1=np.greater(seg_np,0)\n",
    "#         segbin2=np.greater(pred,0)\n",
    "        \n",
    "#         segbin = np.concatenate((segbin1 * 0.5, segbin2 * 0.5), axis=0)        \n",
    "#         r_segbin=np.stack((segbin,segbin,segbin),axis=-1)\n",
    "#         overlayed=np.where(\n",
    "#             r_segbin,\n",
    "#             np.round(ALPHA*seg_color+(1-ALPHA)*img).astype(np.uint8),\n",
    "#             np.round(img).astype(np.uint8))\n",
    "#         imwrite('./pred_img/'+'{:05d}_{:.2f}%.png'.format(i,dice*100),overlayed[0])\n",
    "# print('Image Generated Finished, Average F1 Score: {:.3f}%'.format((total_dice/counter)*100))"
   ]
  }
 ],
 "metadata": {
  "kernelspec": {
   "display_name": "test",
   "language": "python",
   "name": "python3"
  },
  "language_info": {
   "codemirror_mode": {
    "name": "ipython",
    "version": 3
   },
   "file_extension": ".py",
   "mimetype": "text/x-python",
   "name": "python",
   "nbconvert_exporter": "python",
   "pygments_lexer": "ipython3",
   "version": "3.11.5"
  }
 },
 "nbformat": 4,
 "nbformat_minor": 2
}
