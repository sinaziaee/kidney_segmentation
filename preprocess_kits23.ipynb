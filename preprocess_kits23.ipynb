{
 "cells": [
  {
   "cell_type": "code",
   "execution_count": 12,
   "metadata": {},
   "outputs": [],
   "source": [
    "import torch\n",
    "import nibabel as nib\n",
    "import os\n",
    "import torch.nn as nn\n",
    "from torch.nn import functional as F\n",
    "from torch.utils.data import Dataset\n",
    "import numpy as np\n",
    "import time\n",
    "from tqdm.auto import tqdm\n",
    "import utils as utils\n",
    "from scipy.ndimage import rotate\n",
    "import matplotlib.pyplot as plt"
   ]
  },
  {
   "cell_type": "code",
   "execution_count": 13,
   "metadata": {},
   "outputs": [],
   "source": [
    "def get_current_path(path=None):\n",
    "    if path:\n",
    "        return path\n",
    "    else:\n",
    "        return os.getcwd()\n",
    "\n",
    "# new_folder = 'data_npy'\n",
    "# new_folder = 'data_npy2'\n",
    "new_folder = 'kits23'\n",
    "\n",
    "if not os.path.exists(f'{get_current_path()}/{new_folder}'):\n",
    "    os.mkdir(f'{get_current_path()}/{new_folder}')\n",
    "    \n",
    "if not os.path.exists(f'{get_current_path()}/{new_folder}/train'):\n",
    "    os.mkdir(f'{get_current_path()}/{new_folder}/train')\n",
    "    \n",
    "if not os.path.exists(f'{get_current_path()}/{new_folder}/valid'):\n",
    "    os.mkdir(f'{get_current_path()}/{new_folder}/valid')\n",
    "    \n",
    "if not os.path.exists(f'{get_current_path()}/{new_folder}/test'):\n",
    "    os.mkdir(f'{get_current_path()}/{new_folder}/test')\n",
    "    \n",
    "def make_path(path):\n",
    "    if not os.path.exists(path):\n",
    "        os.makedirs(path)\n",
    "    return path\n",
    "\n",
    "train_image_path = make_path(f'{get_current_path()}/{new_folder}/train/image')\n",
    "train_segment_path = make_path(f'{get_current_path()}/{new_folder}/train/segmentation')\n",
    "valid_image_path = make_path(f'{get_current_path()}/{new_folder}/valid/image')\n",
    "valid_segment_path = make_path(f'{get_current_path()}/{new_folder}/valid/segmentation')\n",
    "test_image_path = make_path(f'{get_current_path()}/{new_folder}/test/image')\n",
    "test_segment_path = make_path(f'{get_current_path()}/{new_folder}/test/segmentation')\n",
    "\n",
    "src_path = f'/scratch/student/sinaziaee/datasets/kits23'"
   ]
  },
  {
   "cell_type": "code",
   "execution_count": 15,
   "metadata": {},
   "outputs": [
    {
     "data": {
      "application/vnd.jupyter.widget-view+json": {
       "model_id": "6b58f220341e4323a34b7d3d2b2da57d",
       "version_major": 2,
       "version_minor": 0
      },
      "text/plain": [
       "  0%|          | 0/59 [00:00<?, ?it/s]"
      ]
     },
     "metadata": {},
     "output_type": "display_data"
    }
   ],
   "source": [
    "def image_slicer(src_path, saving_path, kind='test'):\n",
    "    count = 0\n",
    "    depth_list = []\n",
    "    root_path = os.path.join(src_path, kind)\n",
    "    for folder_name in tqdm(sorted(os.listdir(root_path))):\n",
    "        image_path = os.path.join(root_path, folder_name, 'imaging.nii.gz')\n",
    "        img = nib.load(image_path).get_fdata()\n",
    "        img=(img-img.min())/(max((img.max()-img.min()),1e-3))\n",
    "        depth = img.shape[0]\n",
    "        depth_list.append(depth)\n",
    "        for j in range(depth):\n",
    "            new_path=os.path.join(saving_path, '{:05d}.npy'.format(j+count))\n",
    "            new_img = img[j:j+1, :, :].astype(np.float32)\n",
    "            np.save(new_path, new_img)  \n",
    "        count += depth\n",
    "    return depth_list\n",
    "depth_list = image_slicer(src_path, saving_path=test_image_path, kind='test')"
   ]
  },
  {
   "cell_type": "code",
   "execution_count": 19,
   "metadata": {},
   "outputs": [
    {
     "data": {
      "text/plain": [
       "(30, 632)"
      ]
     },
     "execution_count": 19,
     "metadata": {},
     "output_type": "execute_result"
    }
   ],
   "source": [
    "import json\n",
    "\n",
    "depth_lists = {\n",
    "    'train': [],\n",
    "    'valid': [],\n",
    "    'test': depth_list\n",
    "}\n",
    "\n",
    "json_file_path = f'{new_folder}/depth_lists.json'\n",
    "\n",
    "with open(json_file_path, 'w') as json_file:\n",
    "    json.dump(depth_lists, json_file)\n",
    "min(depth_list), max(depth_list)"
   ]
  },
  {
   "cell_type": "code",
   "execution_count": 46,
   "metadata": {},
   "outputs": [
    {
     "data": {
      "application/vnd.jupyter.widget-view+json": {
       "model_id": "808221e90ba44f7c93e2c2b1617069fe",
       "version_major": 2,
       "version_minor": 0
      },
      "text/plain": [
       "  0%|          | 0/59 [00:00<?, ?it/s]"
      ]
     },
     "metadata": {},
     "output_type": "display_data"
    }
   ],
   "source": [
    "def segment_slicer(src_path, saving_path, kind='test'):\n",
    "    count = 0\n",
    "    depth_list = []\n",
    "    root_path = os.path.join(src_path, kind)\n",
    "    for folder_name in tqdm(sorted(os.listdir(root_path))):\n",
    "        kid1_mask_path = os.path.join(root_path, folder_name, 'instances', 'kidney_instance-1_annotation-1.nii.gz')\n",
    "        # kid2_mask_path = os.path.join(root_path, folder_name, 'instances', 'kidney_instance-2_annotation-1.nii.gz')\n",
    "        kid1 = nib.load(kid1_mask_path).get_fdata()\n",
    "        depth = kid1.shape[0]\n",
    "        depth_list.append(depth)\n",
    "        for j in range(depth):\n",
    "            new_path=os.path.join(saving_path, '{:05d}.npy'.format(j+count))\n",
    "            seg_1ch = kid1[j:j+1, :, :]\n",
    "            seg_1ch = torch.tensor(seg_1ch, dtype=torch.int64)\n",
    "            seg_2ch = F.one_hot(seg_1ch, num_classes=2)\n",
    "            seg_2ch = torch.squeeze(seg_2ch.permute(3, 0, 1, 2))\n",
    "            seg_2ch = np.array(seg_2ch, dtype=np.uint8)\n",
    "            np.save(new_path, seg_2ch)\n",
    "        count += depth\n",
    "    return depth_list\n",
    "depth_list = segment_slicer(src_path, saving_path=test_segment_path, kind='test')"
   ]
  },
  {
   "cell_type": "code",
   "execution_count": null,
   "metadata": {},
   "outputs": [],
   "source": []
  }
 ],
 "metadata": {
  "kernelspec": {
   "display_name": "test",
   "language": "python",
   "name": "python3"
  },
  "language_info": {
   "codemirror_mode": {
    "name": "ipython",
    "version": 3
   },
   "file_extension": ".py",
   "mimetype": "text/x-python",
   "name": "python",
   "nbconvert_exporter": "python",
   "pygments_lexer": "ipython3",
   "version": "3.11.0"
  }
 },
 "nbformat": 4,
 "nbformat_minor": 2
}
