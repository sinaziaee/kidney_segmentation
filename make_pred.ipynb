{
 "cells": [
  {
   "cell_type": "code",
   "execution_count": 1,
   "metadata": {},
   "outputs": [
    {
     "name": "stderr",
     "output_type": "stream",
     "text": [
      "/home/student/sinaziaee/mini_conda/miniconda3/envs/test/lib/python3.11/site-packages/tqdm/auto.py:21: TqdmWarning: IProgress not found. Please update jupyter and ipywidgets. See https://ipywidgets.readthedocs.io/en/stable/user_install.html\n",
      "  from .autonotebook import tqdm as notebook_tqdm\n"
     ]
    }
   ],
   "source": [
    "from model import UNet\n",
    "from dataset_creator import MyDataset\n",
    "import torch\n",
    "from torch.utils.data import DataLoader\n",
    "import numpy as np\n",
    "import torch.nn as nn\n",
    "import matplotlib.pyplot as plt\n",
    "import os\n",
    "from imageio import imwrite\n",
    "from PIL import Image\n",
    "import model_hyper_parameters as config\n",
    "from tqdm.auto import tqdm"
   ]
  },
  {
   "cell_type": "code",
   "execution_count": 2,
   "metadata": {},
   "outputs": [],
   "source": [
    "class DiceScore(nn.Module):\n",
    "    def __init__(self, weight=None, size_average=True):\n",
    "        super().__init__()\n",
    "        self.normalization=nn.Softmax(dim=1)\n",
    "\n",
    "    def forward(self, inputs, targets, smooth=1e-4):\n",
    "        inputs = self.normalization(inputs)\n",
    "\n",
    "        targets = targets[:, 1:2, ...]\n",
    "        inputs = torch.where(inputs[:, 1:2, ...] > 0.5, 1.0, 0.0)\n",
    "\n",
    "        inputs = inputs.reshape(-1)\n",
    "        targets = targets.reshape(-1)\n",
    "\n",
    "        intersection = (inputs * targets).sum()\n",
    "        dice = (2. * intersection + smooth) / (inputs.sum() + targets.sum() + smooth)\n",
    "\n",
    "        return dice"
   ]
  },
  {
   "cell_type": "code",
   "execution_count": 3,
   "metadata": {},
   "outputs": [],
   "source": [
    "DEFAULT_KIDNEY_COLOR = [255, 0, 0]\n",
    "DEFAULT_PRED_COLOR = [0, 0, 255]\n",
    "ALPHA = 0.3\n",
    "# DEVICE = torch.device('cuda:0')\n",
    "DEVICE = torch.device('cpu')\n",
    "dicescore=DiceScore()\n",
    "os.makedirs('pred_img',exist_ok=True)"
   ]
  },
  {
   "cell_type": "code",
   "execution_count": 4,
   "metadata": {},
   "outputs": [
    {
     "name": "stdout",
     "output_type": "stream",
     "text": [
      "CUDA Available!\n"
     ]
    }
   ],
   "source": [
    "model = UNet(64,5,use_xavier=True,use_batchNorm=True,dropout=0.5,retain_size=True,nbCls=2)\n",
    "model.to(DEVICE)\n",
    "if torch.cuda.is_available():\n",
    "    print('CUDA Available!')\n",
    "    model.load_state_dict(torch.load('final_result/best_model.pt'))\n",
    "else:\n",
    "    print('CUDA is unavailable, using CPU instead!')\n",
    "    print('Warning: using CPU might require several hours')\n",
    "    model.load_state_dict(torch.load('final_result/best_model.pt', map_location=torch.device('cpu')))"
   ]
  },
  {
   "cell_type": "code",
   "execution_count": 5,
   "metadata": {},
   "outputs": [],
   "source": [
    "# make dataLoader\n",
    "base_path = '/scratch/student/sinaziaee/datasets/2d_dataset/'\n",
    "test_dir = os.path.join(base_path, 'testing')\n",
    "\n",
    "test_dataset = MyDataset(kind='test')\n",
    "\n",
    "# BATCH_SIZE = 32\n",
    "# test_loader = DataLoader(test_dataset, batch_size=BATCH_SIZE, shuffle=False, pin_memory=config.PIN_MEMORY)"
   ]
  },
  {
   "cell_type": "code",
   "execution_count": 9,
   "metadata": {},
   "outputs": [
    {
     "name": "stderr",
     "output_type": "stream",
     "text": [
      "  0%|          | 0/1781 [00:00<?, ?it/s]/tmp/ipykernel_43773/2357073834.py:10: UserWarning: To copy construct from a tensor, it is recommended to use sourceTensor.clone().detach() or sourceTensor.clone().detach().requires_grad_(True), rather than torch.tensor(sourceTensor).\n",
      "  img_tensor = torch.tensor(img_np.reshape((1, 1, 512, 512)), dtype=torch.float32).clone().detach().to(DEVICE)  # Replace 'DEVICE' with your actual device\n",
      "/tmp/ipykernel_43773/2357073834.py:16: UserWarning: To copy construct from a tensor, it is recommended to use sourceTensor.clone().detach() or sourceTensor.clone().detach().requires_grad_(True), rather than torch.tensor(sourceTensor).\n",
      "  dice = dicescore(pred.clone().detach(), torch.tensor(seg_np.reshape((1, 2, 512, 512)), dtype=torch.float32).clone().detach())\n",
      "  0%|          | 1/1781 [06:25<190:34:06, 385.42s/it]"
     ]
    },
    {
     "name": "stdout",
     "output_type": "stream",
     "text": [
      "<class 'torch.Tensor'>\n"
     ]
    }
   ],
   "source": [
    "num_data = len(test_dataset)\n",
    "total_dice=0\n",
    "softmax=nn.Softmax(dim=1)\n",
    "\n",
    "for inx in tqdm(range(num_data)):\n",
    "    model.eval()\n",
    "    img_np, seg_np = test_dataset[inx]\n",
    "    \n",
    "    # Move input tensor to the GPU using clone().detach()\n",
    "    img_tensor = torch.tensor(img_np.reshape((1, 1, 512, 512)), dtype=torch.float32).clone().detach().to(DEVICE)  # Replace 'DEVICE' with your actual device\n",
    "    \n",
    "    pred = model(img_tensor)\n",
    "    pred = pred.cpu()\n",
    "    \n",
    "    # Use clone().detach() for creating a new tensor\n",
    "    dice = dicescore(pred.clone().detach(), torch.tensor(seg_np.reshape((1, 2, 512, 512)), dtype=torch.float32).clone().detach())\n",
    "\n",
    "    total_dice+=dice\n",
    "    \n",
    "    pred=softmax(pred)\n",
    "    pred=np.where(pred[:,1,...].cpu().detach().numpy()>0.5,1,0)\n",
    "    \n",
    "    img_np=img_np.reshape((1,512,512))\n",
    "    seg_np=seg_np[1,...]\n",
    "    seg_np=seg_np.reshape((1,512,512))\n",
    "    \n",
    "    img=255*img_np\n",
    "    img=np.stack((img,img,img),axis=-1)\n",
    "    \n",
    "    shp=seg_np.shape\n",
    "    \n",
    "    seg_color_np = pred.astype(np.float32)\n",
    "    \n",
    "    \n",
    "    seg_color=np.zeros((shp[0],shp[1],shp[2],3),dtype=np.float32)\n",
    "    seg_color[np.equal(seg_np,1)]=DEFAULT_KIDNEY_COLOR\n",
    "    seg_color[np.equal(pred,1)]=DEFAULT_PRED_COLOR\n",
    "    \n",
    "    # img.astype(np.uint8)\n",
    "    # seg_color.astype(np.uint8)\n",
    "    # seg_np.astype(np.uint8)\n",
    "    print(type(seg_np))\n",
    "    \n",
    "    segbin1=np.greater(seg_np,0)\n",
    "    segbin2=np.greater(pred,0)\n",
    "    \n",
    "    segbin=segbin1*0.5+segbin2*0.5\n",
    "    \n",
    "    r_segbin=np.stack((segbin,segbin,segbin),axis=-1)\n",
    "    overlayed=np.where(\n",
    "        r_segbin,\n",
    "        np.round(ALPHA*seg_color+(1-ALPHA)*img).astype(np.uint8),\n",
    "        np.round(img).astype(np.uint8)\n",
    "        \n",
    "    )\n",
    "    imwrite('./pred_img/'+'{:04d}_{:.2f}%.png'.format(inx,dice*100),overlayed[0])\n",
    "print('Image Generated Finished, Average F1 Score: {:.3f}%'.format((total_dice/num_data)*100))"
   ]
  },
  {
   "cell_type": "code",
   "execution_count": null,
   "metadata": {},
   "outputs": [],
   "source": []
  }
 ],
 "metadata": {
  "kernelspec": {
   "display_name": "test",
   "language": "python",
   "name": "python3"
  },
  "language_info": {
   "codemirror_mode": {
    "name": "ipython",
    "version": 3
   },
   "file_extension": ".py",
   "mimetype": "text/x-python",
   "name": "python",
   "nbconvert_exporter": "python",
   "pygments_lexer": "ipython3",
   "version": "3.11.5"
  }
 },
 "nbformat": 4,
 "nbformat_minor": 2
}
