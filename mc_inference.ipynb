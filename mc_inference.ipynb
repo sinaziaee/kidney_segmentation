{
 "cells": [
  {
   "cell_type": "code",
   "execution_count": 18,
   "metadata": {},
   "outputs": [],
   "source": [
    "import json\n",
    "from tqdm import tqdm\n",
    "from makedataset import makeDataset\n",
    "from eff_unet import EffUNet\n",
    "import torch\n",
    "import torch.nn as nn\n",
    "import numpy as np\n",
    "import os\n",
    "import nibabel as nib\n",
    "from scipy.ndimage import rotate\n",
    "from mcdropout import MCDropout2D\n",
    "from my_dice_score import DiceScore\n",
    "\n",
    "\n",
    "\n",
    "# Specify the file path\n",
    "file_path = \"data_npy/depth_lists.json\"\n",
    "\n",
    "# Read the JSON file and convert it to a dictionary\n",
    "with open(file_path, \"r\") as file:\n",
    "    depth_dict = json.load(file)\n",
    "    \n",
    "\n",
    "file_names = [int(file_name[7:11]) for file_name in sorted(os.listdir('/scratch/student/sinaziaee/datasets/3d_dataset/testing/labels'))]\n",
    "test_dataset = makeDataset(kind='test', location='data_npy')\n",
    "output_folder = '3d_mc_predictions'\n",
    "os.makedirs(output_folder, exist_ok=True)\n",
    "# Activate MC Dropout for inference\n",
    "MCDropout2D.activate()"
   ]
  },
  {
   "cell_type": "code",
   "execution_count": 19,
   "metadata": {},
   "outputs": [
    {
     "name": "stdout",
     "output_type": "stream",
     "text": [
      "CUDA Available!\n"
     ]
    }
   ],
   "source": [
    "model = EffUNet(1, 5, use_xavier=True, use_batchNorm=True, dropout=0.2, retain_size=True, nbCls=2)\n",
    "DEVICE = 'cuda' if torch.cuda.is_available() else 'cpu'\n",
    "folder_path = 'final_result11'\n",
    "model_name = 'unet_30.pt'\n",
    "devices = 'cpu'\n",
    "device_num = 0\n",
    "if torch.cuda.is_available():\n",
    "    devices = 'gpu'\n",
    "    device_num = torch.cuda.device_count()\n",
    "model = torch.nn.DataParallel(model)\n",
    "model.to(DEVICE)\n",
    "if torch.cuda.is_available():\n",
    "    print('CUDA Available!')\n",
    "    model.load_state_dict(torch.load(f'./{folder_path}/{model_name}'))\n",
    "else:\n",
    "    print('CUDA is unavailable, using CPU instead!')\n",
    "    print('Warning: using CPU might require several hours')\n",
    "    model.load_state_dict(torch.load(f'./{folder_path}/{model_name}', map_location=torch.device('cpu')))"
   ]
  },
  {
   "cell_type": "code",
   "execution_count": 20,
   "metadata": {},
   "outputs": [],
   "source": [
    "class DiceScore(nn.Module):\n",
    "    def __init__(self, weight=None, size_average=True):\n",
    "        super().__init__()\n",
    "        self.normalization=nn.Softmax(dim=1)\n",
    "\n",
    "    def forward(self, inputs, targets, smooth=1e-4):\n",
    "        inputs = self.normalization(inputs)\n",
    "\n",
    "        targets = targets[:, 1:2, ...]\n",
    "        inputs = torch.where(inputs[:, 1:2, ...] > 0.5, 1.0, 0.0)\n",
    "\n",
    "        inputs = inputs.reshape(-1)\n",
    "        targets = targets.reshape(-1)\n",
    "\n",
    "        intersection = (inputs * targets).sum()\n",
    "        dice = (2. * intersection + smooth) / (inputs.sum() + targets.sum() + smooth)\n",
    "\n",
    "        return dice\n",
    "\n",
    "dice_score = DiceScore()"
   ]
  },
  {
   "cell_type": "code",
   "execution_count": 22,
   "metadata": {},
   "outputs": [
    {
     "name": "stderr",
     "output_type": "stream",
     "text": [
      "100%|██████████| 205/205 [01:24<00:00,  2.43it/s]\n",
      " 12%|█▎        | 1/8 [01:25<09:55, 85.13s/it]"
     ]
    },
    {
     "name": "stdout",
     "output_type": "stream",
     "text": [
      "tensor(0.7257)\n"
     ]
    },
    {
     "name": "stderr",
     "output_type": "stream",
     "text": [
      "100%|██████████| 203/203 [01:24<00:00,  2.40it/s]\n",
      " 25%|██▌       | 2/8 [02:50<08:31, 85.31s/it]"
     ]
    },
    {
     "name": "stdout",
     "output_type": "stream",
     "text": [
      "tensor(0.9509)\n"
     ]
    },
    {
     "name": "stderr",
     "output_type": "stream",
     "text": [
      "100%|██████████| 310/310 [02:03<00:00,  2.52it/s]\n",
      " 38%|███▊      | 3/8 [04:54<08:35, 103.12s/it]"
     ]
    },
    {
     "name": "stdout",
     "output_type": "stream",
     "text": [
      "tensor(0.9493)\n"
     ]
    },
    {
     "name": "stderr",
     "output_type": "stream",
     "text": [
      "100%|██████████| 201/201 [01:19<00:00,  2.51it/s]\n",
      " 50%|█████     | 4/8 [06:15<06:17, 94.26s/it] "
     ]
    },
    {
     "name": "stdout",
     "output_type": "stream",
     "text": [
      "tensor(0.9738)\n"
     ]
    },
    {
     "name": "stderr",
     "output_type": "stream",
     "text": [
      "100%|██████████| 204/204 [01:21<00:00,  2.51it/s]\n",
      " 62%|██████▎   | 5/8 [07:37<04:29, 89.78s/it]"
     ]
    },
    {
     "name": "stdout",
     "output_type": "stream",
     "text": [
      "tensor(0.9771)\n"
     ]
    },
    {
     "name": "stderr",
     "output_type": "stream",
     "text": [
      "100%|██████████| 251/251 [01:39<00:00,  2.51it/s]\n",
      " 75%|███████▌  | 6/8 [09:18<03:07, 93.50s/it]"
     ]
    },
    {
     "name": "stdout",
     "output_type": "stream",
     "text": [
      "tensor(0.9503)\n"
     ]
    },
    {
     "name": "stderr",
     "output_type": "stream",
     "text": [
      "100%|██████████| 181/181 [01:11<00:00,  2.52it/s]\n",
      " 88%|████████▊ | 7/8 [10:30<01:26, 86.66s/it]"
     ]
    },
    {
     "name": "stdout",
     "output_type": "stream",
     "text": [
      "tensor(0.9162)\n"
     ]
    },
    {
     "name": "stderr",
     "output_type": "stream",
     "text": [
      "100%|██████████| 226/226 [01:29<00:00,  2.52it/s]\n",
      "100%|██████████| 8/8 [12:01<00:00, 90.16s/it]"
     ]
    },
    {
     "name": "stdout",
     "output_type": "stream",
     "text": [
      "tensor(0.9522)\n",
      "Average dice score: 0.9244330525398254\n"
     ]
    },
    {
     "name": "stderr",
     "output_type": "stream",
     "text": [
      "\n"
     ]
    }
   ],
   "source": [
    "def calculate_entropy(prob_maps):\n",
    "    return -np.sum(prob_maps * np.log(prob_maps + 1e-8), axis=0)\n",
    "\n",
    "NUM_PASSES = 10\n",
    "start_inx = 0\n",
    "treshold = 0.5\n",
    "dice_list = []\n",
    "entropy_list = []\n",
    "variance_list = []\n",
    "for num, depth in enumerate(tqdm(depth_dict['test'])): # each 3d image\n",
    "    image_dice = 0\n",
    "    slices = []\n",
    "    for inx in tqdm(range(start_inx, start_inx+depth)): # each slice in one 3d image\n",
    "        image, mask = test_dataset[inx]\n",
    "        image, mask = image.unsqueeze(0).to(DEVICE), mask.unsqueeze(0).to(DEVICE)\n",
    "        prob_maps = []\n",
    "        with torch.no_grad():\n",
    "            for pass_inx in range(NUM_PASSES): # each pass of in 1 slice of 1 3d image\n",
    "                pred = model(image)\n",
    "                pred = pred.cpu()\n",
    "                dice = dice_score(pred.clone(), mask.cpu())\n",
    "                image_dice += dice\n",
    "                pred = torch.sigmoid(pred)\n",
    "                pred=np.where(pred[:,0,...].cpu().detach().numpy()>treshold,1,0)\n",
    "                # pred = pred.cpu().detach().numpy()\n",
    "                pred = pred.squeeze(0)\n",
    "                pred = rotate(pred, 270)\n",
    "                prob_maps.append(pred)\n",
    "        prob_maps = np.stack(prob_maps, axis=0)\n",
    "        uncertainty_map = calculate_entropy(prob_maps)        \n",
    "        # infered_mask = np.mean(prob_maps, axis=0)\n",
    "        # rotate to be the same as the original image (due to stacking this rotation is necessary)\n",
    "        # infered_mask = rotate(infered_mask, 270)\n",
    "        slices.append(uncertainty_map)\n",
    "                \n",
    "        \n",
    "        uncertainty_variance = np.var(prob_maps, axis=0)\n",
    "    start_inx = start_inx + depth\n",
    "\n",
    "    image_3d = np.stack(slices, axis=-1)\n",
    "    entropy_list.append(uncertainty_map)\n",
    "    variance_list.append(uncertainty_variance)\n",
    "    image_3d = image_3d.astype(np.float32)\n",
    "    nifti_path = os.path.join(output_folder, f'uncertainty_map_{file_names[num]:04d}.nii.gz')\n",
    "    nifti_img = nib.Nifti1Image(image_3d, np.eye(4))\n",
    "    nib.save(nifti_img, nifti_path)\n",
    "    \n",
    "    avg_image_dice = image_dice / (depth * NUM_PASSES)\n",
    "    dice_list.append(avg_image_dice)\n",
    "    print(avg_image_dice)\n",
    "\n",
    "avg_dice = sum(dice_list) / len(dice_list)\n",
    "print(f'Average dice score: {avg_dice}')"
   ]
  },
  {
   "cell_type": "code",
   "execution_count": null,
   "metadata": {},
   "outputs": [],
   "source": []
  }
 ],
 "metadata": {
  "kernelspec": {
   "display_name": "test",
   "language": "python",
   "name": "python3"
  },
  "language_info": {
   "codemirror_mode": {
    "name": "ipython",
    "version": 3
   },
   "file_extension": ".py",
   "mimetype": "text/x-python",
   "name": "python",
   "nbconvert_exporter": "python",
   "pygments_lexer": "ipython3",
   "version": "3.11.5"
  }
 },
 "nbformat": 4,
 "nbformat_minor": 2
}
