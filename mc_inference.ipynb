{
 "cells": [
  {
   "cell_type": "code",
   "execution_count": 1,
   "metadata": {},
   "outputs": [],
   "source": [
    "import json\n",
    "from tqdm import tqdm\n",
    "from makedataset import makeDataset\n",
    "from eff_unet import EffUNet\n",
    "import torch\n",
    "import torch.nn as nn\n",
    "import numpy as np\n",
    "import os\n",
    "import nibabel as nib\n",
    "from scipy.ndimage import rotate\n",
    "from mcdropout import MCDropout2D\n",
    "\n",
    "\n",
    "# Specify the file path\n",
    "file_path = \"data_npy/depth_lists.json\"\n",
    "\n",
    "# Read the JSON file and convert it to a dictionary\n",
    "with open(file_path, \"r\") as file:\n",
    "    depth_dict = json.load(file)\n",
    "    \n",
    "\n",
    "file_names = [int(file_name[7:11]) for file_name in sorted(os.listdir('/scratch/student/sinaziaee/datasets/3d_dataset/testing/labels'))]\n",
    "test_dataset = makeDataset(kind='test', location='data_npy')\n",
    "output_folder = '3d_mc_predictions'\n",
    "os.makedirs(output_folder, exist_ok=True)\n",
    "# Activate MC Dropout for inference\n",
    "MCDropout2D.activate()"
   ]
  },
  {
   "cell_type": "code",
   "execution_count": 2,
   "metadata": {},
   "outputs": [
    {
     "name": "stdout",
     "output_type": "stream",
     "text": [
      "CUDA Available!\n"
     ]
    }
   ],
   "source": [
    "model = EffUNet(1, 5, use_xavier=True, use_batchNorm=True, dropout=0.2, retain_size=True, nbCls=2)\n",
    "DEVICE = 'cuda' if torch.cuda.is_available() else 'cpu'\n",
    "folder_path = 'final_result11'\n",
    "model_name = 'unet_26.pt'\n",
    "devices = 'cpu'\n",
    "device_num = 0\n",
    "if torch.cuda.is_available():\n",
    "    devices = 'gpu'\n",
    "    device_num = torch.cuda.device_count()\n",
    "model = torch.nn.DataParallel(model)\n",
    "model.to(DEVICE)\n",
    "if torch.cuda.is_available():\n",
    "    print('CUDA Available!')\n",
    "    model.load_state_dict(torch.load(f'./{folder_path}/{model_name}'))\n",
    "else:\n",
    "    print('CUDA is unavailable, using CPU instead!')\n",
    "    print('Warning: using CPU might require several hours')\n",
    "    model.load_state_dict(torch.load(f'./{folder_path}/{model_name}', map_location=torch.device('cpu')))"
   ]
  },
  {
   "cell_type": "code",
   "execution_count": 3,
   "metadata": {},
   "outputs": [],
   "source": [
    "class DiceScore(nn.Module):\n",
    "    def __init__(self, weight=None, size_average=True):\n",
    "        super().__init__()\n",
    "        self.normalization=nn.Softmax(dim=1)\n",
    "\n",
    "    def forward(self, inputs, targets, smooth=1e-4):\n",
    "        inputs = self.normalization(inputs)\n",
    "\n",
    "        targets = targets[:, 1:2, ...]\n",
    "        inputs = torch.where(inputs[:, 1:2, ...] > 0.5, 1.0, 0.0)\n",
    "\n",
    "        inputs = inputs.reshape(-1)\n",
    "        targets = targets.reshape(-1)\n",
    "\n",
    "        intersection = (inputs * targets).sum()\n",
    "        dice = (2. * intersection + smooth) / (inputs.sum() + targets.sum() + smooth)\n",
    "\n",
    "        return dice\n",
    "\n",
    "dice_score = DiceScore()"
   ]
  },
  {
   "cell_type": "code",
   "execution_count": 4,
   "metadata": {},
   "outputs": [
    {
     "name": "stderr",
     "output_type": "stream",
     "text": [
      "100%|██████████| 205/205 [00:20<00:00, 10.18it/s]\n",
      "100%|██████████| 203/203 [00:12<00:00, 16.12it/s]\n",
      "100%|██████████| 310/310 [00:18<00:00, 16.46it/s]\n",
      "100%|██████████| 201/201 [00:12<00:00, 16.48it/s]\n",
      "100%|██████████| 204/204 [00:12<00:00, 16.29it/s]\n",
      "100%|██████████| 251/251 [00:15<00:00, 16.33it/s]\n",
      "100%|██████████| 181/181 [00:10<00:00, 18.05it/s]\n",
      "100%|██████████| 226/226 [00:13<00:00, 16.84it/s]\n",
      "100%|██████████| 8/8 [02:07<00:00, 15.91s/it]"
     ]
    },
    {
     "name": "stdout",
     "output_type": "stream",
     "text": [
      "Average dice score: 0.9159011840820312\n"
     ]
    },
    {
     "name": "stderr",
     "output_type": "stream",
     "text": [
      "\n"
     ]
    }
   ],
   "source": [
    "def calculate_entropy(prob_maps):\n",
    "    return -np.sum(prob_maps * np.log(prob_maps + 1e-8), axis=0)\n",
    "\n",
    "NUM_PASSES = 10\n",
    "start_inx = 0\n",
    "treshold = 0.5\n",
    "dice_list = []\n",
    "entropy_list = []\n",
    "variance_list = []\n",
    "for num, depth in enumerate(tqdm(depth_dict['test'])): # each 3d image\n",
    "    image_dice = 0\n",
    "    slices = []\n",
    "    for inx in tqdm(range(start_inx, start_inx+depth)): # each slice in one 3d image\n",
    "        image, mask = test_dataset[inx]\n",
    "        image, mask = image.unsqueeze(0).to(DEVICE), mask.unsqueeze(0).to(DEVICE)\n",
    "        prob_maps = []\n",
    "        with torch.no_grad():\n",
    "            for pass_inx in range(NUM_PASSES): # each pass of in 1 slice of 1 3d image\n",
    "                pred = model(image)\n",
    "                pred = pred.cpu()\n",
    "                dice = dice_score(pred.clone(), mask.cpu())\n",
    "                image_dice += dice\n",
    "                pred = torch.sigmoid(pred)\n",
    "                pred=np.where(pred[:,1,...].cpu().detach().numpy()>treshold,1,0)\n",
    "                pred = pred.squeeze(0)\n",
    "                prob_maps.append(pred)\n",
    "        prob_maps = np.stack(prob_maps, axis=0)\n",
    "        infered_mask = np.mean(prob_maps, axis=0)\n",
    "        # rotate to be the same as the original image (due to stacking this rotation is necessary)\n",
    "        infered_mask = rotate(infered_mask, 270)\n",
    "        slices.append(infered_mask)\n",
    "                \n",
    "        uncertainty_map = calculate_entropy(prob_maps)\n",
    "        uncertainty_variance = np.var(prob_maps, axis=0)\n",
    "        # break\n",
    "    start_inx = start_inx + depth\n",
    "\n",
    "    image_3d = np.stack(slices, axis=-1)\n",
    "    entropy_list.append(uncertainty_map)\n",
    "    variance_list.append(uncertainty_variance)\n",
    "    image_3d = image_3d.astype(np.float32)\n",
    "    nifti_path = os.path.join(output_folder, f'uncertainty_map_{file_names[num]:04d}.nii.gz')\n",
    "    nifti_img = nib.Nifti1Image(image_3d, np.eye(4))\n",
    "    nib.save(nifti_img, nifti_path)\n",
    "    \n",
    "    avg_image_dice = image_dice / (depth * NUM_PASSES)\n",
    "    dice_list.append(avg_image_dice)\n",
    "avg_dice = sum(dice_list) / len(dice_list)\n",
    "print(f'Average dice score: {avg_dice}')"
   ]
  },
  {
   "cell_type": "code",
   "execution_count": 5,
   "metadata": {},
   "outputs": [
    {
     "data": {
      "text/plain": [
       "[tensor(0.6078),\n",
       " tensor(0.9408),\n",
       " tensor(0.9455),\n",
       " tensor(0.9824),\n",
       " tensor(0.9864),\n",
       " tensor(0.9342),\n",
       " tensor(0.9556),\n",
       " tensor(0.9745)]"
      ]
     },
     "execution_count": 5,
     "metadata": {},
     "output_type": "execute_result"
    }
   ],
   "source": [
    "dice_list"
   ]
  },
  {
   "cell_type": "code",
   "execution_count": 6,
   "metadata": {},
   "outputs": [],
   "source": [
    "# import numpy as np\n",
    "\n",
    "# # Example segmentation masks from 10 different inferences using MC Dropout\n",
    "# segmentation_masks = np.random.rand(10, 512, 512) > 0.5  # Shape: (10, height, width)\n",
    "\n",
    "# # Merge segmentation masks by taking the pixel-wise mean\n",
    "# merged_mask = np.mean(segmentation_masks, axis=0) > 0.5  # Apply threshold to obtain binary mask\n",
    "\n",
    "# # Calculate uncertainty (optional)\n",
    "# uncertainty = np.var(segmentation_masks, axis=0)  # Calculate variance across segmentation masks\n",
    "\n",
    "# # Apply post-processing (optional)\n",
    "# # For example, perform morphological operations, connected component analysis, etc.\n",
    "\n",
    "# # Final segmentation mask\n",
    "# final_segmentation_mask = merged_mask.astype(np.uint8)  # Convert to uint8 if necessary\n",
    "\n",
    "# print(\"Final Segmentation Mask:\", final_segmentation_mask)\n",
    "# print(\"Uncertainty:\", uncertainty)\n"
   ]
  },
  {
   "cell_type": "code",
   "execution_count": 7,
   "metadata": {},
   "outputs": [],
   "source": [
    "# segmentation_masks.shape"
   ]
  },
  {
   "cell_type": "code",
   "execution_count": 8,
   "metadata": {},
   "outputs": [],
   "source": [
    "# final_segmentation_mask.shape"
   ]
  },
  {
   "cell_type": "code",
   "execution_count": null,
   "metadata": {},
   "outputs": [],
   "source": []
  }
 ],
 "metadata": {
  "kernelspec": {
   "display_name": "test",
   "language": "python",
   "name": "python3"
  },
  "language_info": {
   "codemirror_mode": {
    "name": "ipython",
    "version": 3
   },
   "file_extension": ".py",
   "mimetype": "text/x-python",
   "name": "python",
   "nbconvert_exporter": "python",
   "pygments_lexer": "ipython3",
   "version": "3.11.5"
  }
 },
 "nbformat": 4,
 "nbformat_minor": 2
}
