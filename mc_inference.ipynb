{
 "cells": [
  {
   "cell_type": "code",
   "execution_count": 5,
   "metadata": {},
   "outputs": [],
   "source": [
    "import json\n",
    "from tqdm import tqdm\n",
    "from makedataset import makeDataset\n",
    "from eff_unet import EffUNet\n",
    "import torch\n",
    "import torch.nn as nn\n",
    "import numpy as np\n",
    "import os\n",
    "import nibabel as nib\n",
    "from scipy.ndimage import rotate\n",
    "from mcdropout import MCDropout2D\n",
    "\n",
    "\n",
    "# Specify the file path\n",
    "file_path = \"data_npy/depth_lists.json\"\n",
    "\n",
    "# Read the JSON file and convert it to a dictionary\n",
    "with open(file_path, \"r\") as file:\n",
    "    depth_dict = json.load(file)\n",
    "    \n",
    "\n",
    "file_names = [int(file_name[7:11]) for file_name in os.listdir('/scratch/student/sinaziaee/datasets/3d_dataset/testing/labels')]\n",
    "test_dataset = makeDataset(kind='test', location='data_npy')\n",
    "output_folder = '3d_mc_predictions'\n",
    "os.makedirs(output_folder, exist_ok=True)\n",
    "# Activate MC Dropout for inference\n",
    "MCDropout2D.activate()"
   ]
  },
  {
   "cell_type": "code",
   "execution_count": 6,
   "metadata": {},
   "outputs": [
    {
     "name": "stdout",
     "output_type": "stream",
     "text": [
      "CUDA Available!\n"
     ]
    }
   ],
   "source": [
    "model = EffUNet(1, 5, use_xavier=True, use_batchNorm=True, dropout=0.2, retain_size=True, nbCls=2)\n",
    "DEVICE = 'cuda' if torch.cuda.is_available() else 'cpu'\n",
    "folder_path = 'final_result11'\n",
    "model_name = 'unet_26.pt'\n",
    "devices = 'cpu'\n",
    "device_num = 0\n",
    "if torch.cuda.is_available():\n",
    "    devices = 'gpu'\n",
    "    device_num = torch.cuda.device_count()\n",
    "model = torch.nn.DataParallel(model)\n",
    "model.to(DEVICE)\n",
    "if torch.cuda.is_available():\n",
    "    print('CUDA Available!')\n",
    "    model.load_state_dict(torch.load(f'./{folder_path}/{model_name}'))\n",
    "else:\n",
    "    print('CUDA is unavailable, using CPU instead!')\n",
    "    print('Warning: using CPU might require several hours')\n",
    "    model.load_state_dict(torch.load(f'./{folder_path}/{model_name}', map_location=torch.device('cpu')))"
   ]
  },
  {
   "cell_type": "code",
   "execution_count": 7,
   "metadata": {},
   "outputs": [],
   "source": [
    "class DiceScore(nn.Module):\n",
    "    def __init__(self, weight=None, size_average=True):\n",
    "        super().__init__()\n",
    "        self.normalization=nn.Softmax(dim=1)\n",
    "\n",
    "    def forward(self, inputs, targets, smooth=1e-4):\n",
    "        inputs = self.normalization(inputs)\n",
    "\n",
    "        targets = targets[:, 1:2, ...]\n",
    "        inputs = torch.where(inputs[:, 1:2, ...] > 0.5, 1.0, 0.0)\n",
    "\n",
    "        inputs = inputs.reshape(-1)\n",
    "        targets = targets.reshape(-1)\n",
    "\n",
    "        intersection = (inputs * targets).sum()\n",
    "        dice = (2. * intersection + smooth) / (inputs.sum() + targets.sum() + smooth)\n",
    "\n",
    "        return dice\n",
    "\n",
    "dice_score = DiceScore()"
   ]
  },
  {
   "cell_type": "code",
   "execution_count": null,
   "metadata": {},
   "outputs": [],
   "source": [
    "def calculate_entropy(prob_maps):\n",
    "    return -np.sum(prob_maps * np.log(prob_maps + 1e-8), axis=0)\n",
    "\n",
    "NUM_PASSES = 2\n",
    "\n",
    "start_inx = 0\n",
    "treshold = 0.5\n",
    "dice_list = []\n",
    "for num, depth in enumerate(tqdm(depth_dict['test'])):\n",
    "    image_dice = 0\n",
    "    slices = []\n",
    "    for inx in tqdm(range(start_inx, start_inx+depth)):\n",
    "        image, mask = test_dataset[inx]\n",
    "        image, mask = image.unsqueeze(0).to(DEVICE), mask.unsqueeze(0).to(DEVICE)\n",
    "        prob_maps = []\n",
    "        with torch.no_grad():\n",
    "            for pass_inx in range(NUM_PASSES):\n",
    "                pred = model(image)\n",
    "                pred = pred.cpu()\n",
    "                dice = dice_score(pred.clone(), mask.cpu())\n",
    "                image_dice += dice\n",
    "                pred = torch.sigmoid(pred)\n",
    "                pred=np.where(pred[:,1,...].cpu().detach().numpy()>treshold,1,0)\n",
    "                pred = pred.squeeze(0)\n",
    "                prob_maps.append(pred)\n",
    "        # rotate to be the same as the original image (due to stacking this rotation is necessary)\n",
    "        pred = rotate(pred, 270)\n",
    "        slices.append(pred)\n",
    "        prob_maps = np.stack(prob_maps, axis=0)\n",
    "        \n",
    "        uncertainty_map = calculate_entropy(prob_maps)\n",
    "    start_inx = start_inx + depth\n",
    "    \n",
    "    # image_3d = np.stack(slices, axis=-1)\n",
    "    \n",
    "    # image_3d = image_3d.astype(np.float32)\n",
    "    # nifti_path = os.path.join(output_folder, f'pred_{file_names[num]:04d}.nii.gz')\n",
    "    # nifti_img = nib.Nifti1Image(image_3d, np.eye(4))\n",
    "    # nib.save(nifti_img, nifti_path)\n",
    "    avg_image_dice = image_dice / (depth * NUM_PASSES)\n",
    "    dice_list.append(avg_image_dice)\n",
    "avg_dice = sum(dice_list) / len(dice_list)\n",
    "print(f'Average dice score: {avg_dice}')"
   ]
  }
 ],
 "metadata": {
  "kernelspec": {
   "display_name": "test",
   "language": "python",
   "name": "python3"
  },
  "language_info": {
   "codemirror_mode": {
    "name": "ipython",
    "version": 3
   },
   "file_extension": ".py",
   "mimetype": "text/x-python",
   "name": "python",
   "nbconvert_exporter": "python",
   "pygments_lexer": "ipython3",
   "version": "3.11.5"
  }
 },
 "nbformat": 4,
 "nbformat_minor": 2
}
