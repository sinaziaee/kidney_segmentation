{
 "cells": [
  {
   "cell_type": "code",
   "execution_count": 1,
   "metadata": {},
   "outputs": [
    {
     "name": "stderr",
     "output_type": "stream",
     "text": [
      "/home/student/sinaziaee/mini_conda/miniconda3/envs/test/lib/python3.11/site-packages/tqdm/auto.py:21: TqdmWarning: IProgress not found. Please update jupyter and ipywidgets. See https://ipywidgets.readthedocs.io/en/stable/user_install.html\n",
      "  from .autonotebook import tqdm as notebook_tqdm\n"
     ]
    }
   ],
   "source": [
    "import nibabel as nib\n",
    "import numpy as np\n",
    "from tqdm.auto import tqdm"
   ]
  },
  {
   "cell_type": "code",
   "execution_count": 2,
   "metadata": {},
   "outputs": [],
   "source": [
    "import os\n",
    "\n",
    "def make_path(path):\n",
    "    if not os.path.exists(path):\n",
    "        os.makedirs(path)\n",
    "    return path\n",
    "new_folder_path = '3d_zero_padded_images'\n",
    "dest_train_images_path = make_path(f'{new_folder_path}/training/images')\n",
    "dest_train_masks_path = make_path(f'{new_folder_path}/training/labels')\n",
    "dest_valid_images_path = make_path(f'{new_folder_path}/validation/images')\n",
    "dest_valid_masks_path = make_path(f'{new_folder_path}/validation/labels')\n",
    "dest_test_images_path = make_path(f'{new_folder_path}/testing/images')\n",
    "dest_test_masks_path = make_path(f'{new_folder_path}/testing/labels')\n",
    "\n",
    "src_train_images_path = '/scratch/student/sinaziaee/datasets/3d_dataset/training/images'\n",
    "src_train_masks_path = '/scratch/student/sinaziaee/datasets/3d_dataset/training/labels'\n",
    "src_valid_images_path = '/scratch/student/sinaziaee/datasets/3d_dataset/validation/images'\n",
    "src_valid_masks_path = '/scratch/student/sinaziaee/datasets/3d_dataset/validation/labels'\n",
    "src_test_images_path = '/scratch/student/sinaziaee/datasets/3d_dataset/testing/images'\n",
    "src_test_masks_path = '/scratch/student/sinaziaee/datasets/3d_dataset/testing/labels'"
   ]
  },
  {
   "cell_type": "code",
   "execution_count": 5,
   "metadata": {},
   "outputs": [],
   "source": [
    "def pad_image(image, mask, dest_image_path, dest_mask_path, new_image_name, new_mask_name):\n",
    "    desired_depth = 512\n",
    "    padding_needed = desired_depth - image.shape[2]\n",
    "    pad_before = padding_needed // 2\n",
    "    pad_after = padding_needed - pad_before\n",
    "    padded_img = np.pad(image, ((0, 0), (0, 0), (pad_before, pad_after)), mode='constant', constant_values=0)\n",
    "    padded_mask = np.pad(mask, ((0, 0), (0, 0), (pad_before, pad_after)), mode='constant', constant_values=0)\n",
    "    new_image_nifti = nib.Nifti1Image(padded_img, np.eye(4))\n",
    "    new_mask_nifti = nib.Nifti1Image(padded_mask, np.eye(4))\n",
    "    nib.save(new_image_nifti, f'{dest_image_path}/{new_image_name}')\n",
    "    nib.save(new_mask_nifti, f'{dest_mask_path}/{new_mask_name}')"
   ]
  },
  {
   "cell_type": "code",
   "execution_count": 6,
   "metadata": {},
   "outputs": [],
   "source": [
    "def padding_3d_image(src_image_path, src_mask_path, dest_image_path, dest_mask_path):\n",
    "    for image_file_name, mask_file_name in zip(sorted(os.listdir(src_image_path)), sorted(os.listdir(src_mask_path))):\n",
    "        image = nib.load(os.path.join(src_image_path, image_file_name)).get_fdata()\n",
    "        mask = nib.load(os.path.join(src_mask_path, mask_file_name)).get_fdata()\n",
    "        pad_image(image, mask, dest_image_path, dest_mask_path, image_file_name, mask_file_name)\n",
    "padding_3d_image(src_train_images_path, src_train_masks_path, dest_train_images_path, dest_train_masks_path)\n",
    "padding_3d_image(src_valid_images_path, src_valid_masks_path, dest_valid_images_path, dest_valid_masks_path)\n",
    "padding_3d_image(src_test_images_path, src_test_masks_path, dest_test_images_path, dest_test_masks_path)"
   ]
  },
  {
   "cell_type": "code",
   "execution_count": null,
   "metadata": {},
   "outputs": [],
   "source": []
  }
 ],
 "metadata": {
  "kernelspec": {
   "display_name": "test",
   "language": "python",
   "name": "python3"
  },
  "language_info": {
   "codemirror_mode": {
    "name": "ipython",
    "version": 3
   },
   "file_extension": ".py",
   "mimetype": "text/x-python",
   "name": "python",
   "nbconvert_exporter": "python",
   "pygments_lexer": "ipython3",
   "version": "3.1.0"
  }
 },
 "nbformat": 4,
 "nbformat_minor": 2
}
