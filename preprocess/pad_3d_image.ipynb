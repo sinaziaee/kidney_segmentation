{
 "cells": [
  {
   "cell_type": "code",
   "execution_count": 83,
   "metadata": {},
   "outputs": [],
   "source": [
    "import nibabel as nib\n",
    "import numpy as np\n",
    "from tqdm.auto import tqdm"
   ]
  },
  {
   "cell_type": "code",
   "execution_count": 37,
   "metadata": {},
   "outputs": [
    {
     "name": "stdout",
     "output_type": "stream",
     "text": [
      "(512, 512, 205)\n"
     ]
    },
    {
     "data": {
      "text/plain": [
       "(512, 512, 512)"
      ]
     },
     "execution_count": 37,
     "metadata": {},
     "output_type": "execute_result"
    }
   ],
   "source": [
    "import nibabel as nib\n",
    "import numpy as np\n",
    "# Path to the .nii.gz file\n",
    "file_path = \"/scratch/student/sinaziaee/datasets/3d_dataset/testing/images/kidney_0038_0000.nii.gz\"\n",
    "\n",
    "# Load the .nii.gz file\n",
    "img = nib.load(file_path)\n",
    "img = np.array(img.get_fdata())\n",
    "# Print the shape of the image\n",
    "print(img.shape)\n",
    "\n",
    "padding_needed = 512 - img.shape[2]\n",
    "pad_before = padding_needed // 2\n",
    "pad_after = padding_needed - pad_before\n",
    "padded_img = np.pad(img, ((0, 0), (0, 0), (pad_before, pad_after)), mode='constant', constant_values=0)\n",
    "\n",
    "padded_img.shape"
   ]
  },
  {
   "cell_type": "code",
   "execution_count": 55,
   "metadata": {},
   "outputs": [],
   "source": [
    "import os\n",
    "\n",
    "def make_path(path):\n",
    "    if not os.path.exists(path):\n",
    "        os.makedirs(path)\n",
    "    return path\n",
    "\n",
    "dest_train_images_path = make_path('3d_original_padded_images/training/images')\n",
    "dest_train_masks_path = make_path('3d_original_padded_images/training/labels')\n",
    "dest_valid_images_path = make_path('3d_original_padded_images/validation/images')\n",
    "dest_valid_masks_path = make_path('3d_original_padded_images/validation/labels')\n",
    "dest_test_images_path = make_path('3d_original_padded_images/testing/images')\n",
    "dest_test_masks_path = make_path('3d_original_padded_images/testing/labels')\n",
    "\n",
    "src_train_images_path = '/scratch/student/sinaziaee/datasets/3d_dataset/training/images'\n",
    "src_train_masks_path = '/scratch/student/sinaziaee/datasets/3d_dataset/training/labels'\n",
    "src_valid_images_path = '/scratch/student/sinaziaee/datasets/3d_dataset/validation/images'\n",
    "src_valid_masks_path = '/scratch/student/sinaziaee/datasets/3d_dataset/validation/labels'\n",
    "src_test_images_path = '/scratch/student/sinaziaee/datasets/3d_dataset/testing/images'\n",
    "src_test_masks_path = '/scratch/student/sinaziaee/datasets/3d_dataset/testing/labels'"
   ]
  },
  {
   "cell_type": "code",
   "execution_count": 80,
   "metadata": {},
   "outputs": [],
   "source": [
    "def pad_image(image, mask, dest_image_path, dest_mask_path, new_image_name, new_mask_name):\n",
    "    depth = mask.shape[2]\n",
    "    original_depth = mask.shape[2]\n",
    "    start_inx = 0\n",
    "    end_inx = depth\n",
    "    for j in range(depth):\n",
    "        slice = mask[:,:,j]\n",
    "        binary_slice = np.where(slice > 0.5, 1, 0)\n",
    "        max_slice = np.max(binary_slice)\n",
    "        if max_slice == 1:\n",
    "            start_inx = j\n",
    "            break\n",
    "\n",
    "    for j in range(depth-1, 0, -1):\n",
    "        slice = mask[:,:,j]\n",
    "        binary_slice = np.where(slice > 0.5, 1, 0)\n",
    "        max_slice = np.max(binary_slice)\n",
    "        if max_slice == 1:\n",
    "            end_inx = j\n",
    "            break\n",
    "        \n",
    "    start_inx = start_inx - 1\n",
    "    end_inx = end_inx + 1\n",
    "    # print(start_inx, end_inx, depth)\n",
    "\n",
    "    temp_image = image.copy()\n",
    "    temp_mask = mask.copy()\n",
    "    depth = mask.shape[2]\n",
    "    desired_depth = 512\n",
    "    while depth <= desired_depth:\n",
    "        starter = temp_image[:, :, 0:start_inx]\n",
    "        ender = temp_image[:, :, end_inx:]\n",
    "        temp_image = np.concatenate((starter, temp_image, ender), axis=2)\n",
    "        depth = temp_image.shape[2]\n",
    "        \n",
    "        starter = temp_mask[:, :, 0:start_inx]\n",
    "        ender = temp_mask[:, :, end_inx:]\n",
    "        temp_mask = np.concatenate((starter, temp_mask, ender), axis=2)\n",
    "\n",
    "    start_inx_weight = start_inx\n",
    "    end_inx_weight = original_depth - end_inx\n",
    "    # print(start_inx_weight, end_inx_weight)\n",
    "    total_weight = start_inx_weight + end_inx_weight\n",
    "    # print(total_weight)\n",
    "    start_inx_weight = start_inx_weight / total_weight\n",
    "    end_inx_weight = end_inx_weight / total_weight\n",
    "    # print(start_inx_weight, end_inx_weight)\n",
    "\n",
    "    start_remover = int((depth - desired_depth) * start_inx_weight)\n",
    "    end_remover = start_remover + desired_depth\n",
    "    # print(start_remover, end_remover)\n",
    "    new_image = temp_image[:, :, start_remover:end_remover]\n",
    "    new_mask = temp_mask[:, :, start_remover:end_remover]\n",
    "\n",
    "    new_image_nifti = nib.Nifti1Image(new_image, np.eye(4))\n",
    "    new_mask_nifti = nib.Nifti1Image(new_mask, np.eye(4))\n",
    "    nib.save(new_image_nifti, f'{dest_image_path}/{new_image_name}')\n",
    "    nib.save(new_mask_nifti, f'{dest_mask_path}/{new_mask_name}')"
   ]
  },
  {
   "cell_type": "code",
   "execution_count": 86,
   "metadata": {},
   "outputs": [],
   "source": [
    "def padding_3d_image(src_image_path, src_mask_path, dest_image_path, dest_mask_path):\n",
    "    for image_file_name, mask_file_name in zip(sorted(os.listdir(src_image_path)), sorted(os.listdir(src_mask_path))):\n",
    "        image = nib.load(os.path.join(src_image_path, image_file_name)).get_fdata()\n",
    "        mask = nib.load(os.path.join(src_mask_path, mask_file_name)).get_fdata()\n",
    "        pad_image(image, mask, dest_image_path, dest_mask_path, image_file_name, mask_file_name)\n",
    "padding_3d_image(src_train_images_path, src_train_masks_path, dest_train_images_path, dest_train_masks_path)\n",
    "padding_3d_image(src_valid_images_path, src_valid_masks_path, dest_valid_images_path, dest_valid_masks_path)\n",
    "padding_3d_image(src_test_images_path, src_test_masks_path, dest_test_images_path, dest_test_masks_path)"
   ]
  },
  {
   "cell_type": "code",
   "execution_count": null,
   "metadata": {},
   "outputs": [],
   "source": []
  }
 ],
 "metadata": {
  "kernelspec": {
   "display_name": "test",
   "language": "python",
   "name": "python3"
  },
  "language_info": {
   "codemirror_mode": {
    "name": "ipython",
    "version": 3
   },
   "file_extension": ".py",
   "mimetype": "text/x-python",
   "name": "python",
   "nbconvert_exporter": "python",
   "pygments_lexer": "ipython3",
   "version": "3.11.5"
  }
 },
 "nbformat": 4,
 "nbformat_minor": 2
}
